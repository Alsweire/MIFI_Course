{
  "cells": [
    {
      "cell_type": "code",
      "execution_count": null,
      "metadata": {
        "colab": {
          "base_uri": "https://localhost:8080/"
        },
        "id": "UVKyBrfgEq8H",
        "outputId": "33a52c3e-a4e4-44b4-ff30-42acdb54210e"
      },
      "outputs": [
        {
          "name": "stdout",
          "output_type": "stream",
          "text": [
            "Collecting catboost\n",
            "  Downloading catboost-1.2.8-cp311-cp311-manylinux2014_x86_64.whl.metadata (1.2 kB)\n",
            "Requirement already satisfied: graphviz in /usr/local/lib/python3.11/dist-packages (from catboost) (0.20.3)\n",
            "Requirement already satisfied: matplotlib in /usr/local/lib/python3.11/dist-packages (from catboost) (3.10.0)\n",
            "Requirement already satisfied: numpy<3.0,>=1.16.0 in /usr/local/lib/python3.11/dist-packages (from catboost) (2.0.2)\n",
            "Requirement already satisfied: pandas>=0.24 in /usr/local/lib/python3.11/dist-packages (from catboost) (2.2.2)\n",
            "Requirement already satisfied: scipy in /usr/local/lib/python3.11/dist-packages (from catboost) (1.15.3)\n",
            "Requirement already satisfied: plotly in /usr/local/lib/python3.11/dist-packages (from catboost) (5.24.1)\n",
            "Requirement already satisfied: six in /usr/local/lib/python3.11/dist-packages (from catboost) (1.17.0)\n",
            "Requirement already satisfied: python-dateutil>=2.8.2 in /usr/local/lib/python3.11/dist-packages (from pandas>=0.24->catboost) (2.9.0.post0)\n",
            "Requirement already satisfied: pytz>=2020.1 in /usr/local/lib/python3.11/dist-packages (from pandas>=0.24->catboost) (2025.2)\n",
            "Requirement already satisfied: tzdata>=2022.7 in /usr/local/lib/python3.11/dist-packages (from pandas>=0.24->catboost) (2025.2)\n",
            "Requirement already satisfied: contourpy>=1.0.1 in /usr/local/lib/python3.11/dist-packages (from matplotlib->catboost) (1.3.2)\n",
            "Requirement already satisfied: cycler>=0.10 in /usr/local/lib/python3.11/dist-packages (from matplotlib->catboost) (0.12.1)\n",
            "Requirement already satisfied: fonttools>=4.22.0 in /usr/local/lib/python3.11/dist-packages (from matplotlib->catboost) (4.58.1)\n",
            "Requirement already satisfied: kiwisolver>=1.3.1 in /usr/local/lib/python3.11/dist-packages (from matplotlib->catboost) (1.4.8)\n",
            "Requirement already satisfied: packaging>=20.0 in /usr/local/lib/python3.11/dist-packages (from matplotlib->catboost) (24.2)\n",
            "Requirement already satisfied: pillow>=8 in /usr/local/lib/python3.11/dist-packages (from matplotlib->catboost) (11.2.1)\n",
            "Requirement already satisfied: pyparsing>=2.3.1 in /usr/local/lib/python3.11/dist-packages (from matplotlib->catboost) (3.2.3)\n",
            "Requirement already satisfied: tenacity>=6.2.0 in /usr/local/lib/python3.11/dist-packages (from plotly->catboost) (9.1.2)\n",
            "Downloading catboost-1.2.8-cp311-cp311-manylinux2014_x86_64.whl (99.2 MB)\n",
            "\u001b[2K   \u001b[90m━━━━━━━━━━━━━━━━━━━━━━━━━━━━━━━━━━━━━━━━\u001b[0m \u001b[32m99.2/99.2 MB\u001b[0m \u001b[31m7.9 MB/s\u001b[0m eta \u001b[36m0:00:00\u001b[0m\n",
            "\u001b[?25hInstalling collected packages: catboost\n",
            "Successfully installed catboost-1.2.8\n"
          ]
        }
      ],
      "source": [
        "!pip install catboost"
      ]
    },
    {
      "cell_type": "code",
      "execution_count": null,
      "metadata": {
        "colab": {
          "base_uri": "https://localhost:8080/"
        },
        "id": "fzpkLLHsHhlL",
        "outputId": "97d073ef-dadf-420e-89b3-82a72a16f426"
      },
      "outputs": [
        {
          "name": "stdout",
          "output_type": "stream",
          "text": [
            "Collecting itables\n",
            "  Downloading itables-2.4.2-py3-none-any.whl.metadata (9.5 kB)\n",
            "Requirement already satisfied: ipython in /usr/local/lib/python3.11/dist-packages (from itables) (7.34.0)\n",
            "Requirement already satisfied: numpy in /usr/local/lib/python3.11/dist-packages (from itables) (2.0.2)\n",
            "Requirement already satisfied: pandas in /usr/local/lib/python3.11/dist-packages (from itables) (2.2.2)\n",
            "Requirement already satisfied: setuptools>=18.5 in /usr/local/lib/python3.11/dist-packages (from ipython->itables) (75.2.0)\n",
            "Collecting jedi>=0.16 (from ipython->itables)\n",
            "  Downloading jedi-0.19.2-py2.py3-none-any.whl.metadata (22 kB)\n",
            "Requirement already satisfied: decorator in /usr/local/lib/python3.11/dist-packages (from ipython->itables) (4.4.2)\n",
            "Requirement already satisfied: pickleshare in /usr/local/lib/python3.11/dist-packages (from ipython->itables) (0.7.5)\n",
            "Requirement already satisfied: traitlets>=4.2 in /usr/local/lib/python3.11/dist-packages (from ipython->itables) (5.7.1)\n",
            "Requirement already satisfied: prompt-toolkit!=3.0.0,!=3.0.1,<3.1.0,>=2.0.0 in /usr/local/lib/python3.11/dist-packages (from ipython->itables) (3.0.51)\n",
            "Requirement already satisfied: pygments in /usr/local/lib/python3.11/dist-packages (from ipython->itables) (2.19.1)\n",
            "Requirement already satisfied: backcall in /usr/local/lib/python3.11/dist-packages (from ipython->itables) (0.2.0)\n",
            "Requirement already satisfied: matplotlib-inline in /usr/local/lib/python3.11/dist-packages (from ipython->itables) (0.1.7)\n",
            "Requirement already satisfied: pexpect>4.3 in /usr/local/lib/python3.11/dist-packages (from ipython->itables) (4.9.0)\n",
            "Requirement already satisfied: python-dateutil>=2.8.2 in /usr/local/lib/python3.11/dist-packages (from pandas->itables) (2.9.0.post0)\n",
            "Requirement already satisfied: pytz>=2020.1 in /usr/local/lib/python3.11/dist-packages (from pandas->itables) (2025.2)\n",
            "Requirement already satisfied: tzdata>=2022.7 in /usr/local/lib/python3.11/dist-packages (from pandas->itables) (2025.2)\n",
            "Requirement already satisfied: parso<0.9.0,>=0.8.4 in /usr/local/lib/python3.11/dist-packages (from jedi>=0.16->ipython->itables) (0.8.4)\n",
            "Requirement already satisfied: ptyprocess>=0.5 in /usr/local/lib/python3.11/dist-packages (from pexpect>4.3->ipython->itables) (0.7.0)\n",
            "Requirement already satisfied: wcwidth in /usr/local/lib/python3.11/dist-packages (from prompt-toolkit!=3.0.0,!=3.0.1,<3.1.0,>=2.0.0->ipython->itables) (0.2.13)\n",
            "Requirement already satisfied: six>=1.5 in /usr/local/lib/python3.11/dist-packages (from python-dateutil>=2.8.2->pandas->itables) (1.17.0)\n",
            "Downloading itables-2.4.2-py3-none-any.whl (2.3 MB)\n",
            "\u001b[2K   \u001b[90m━━━━━━━━━━━━━━━━━━━━━━━━━━━━━━━━━━━━━━━━\u001b[0m \u001b[32m2.3/2.3 MB\u001b[0m \u001b[31m32.7 MB/s\u001b[0m eta \u001b[36m0:00:00\u001b[0m\n",
            "\u001b[?25hDownloading jedi-0.19.2-py2.py3-none-any.whl (1.6 MB)\n",
            "\u001b[2K   \u001b[90m━━━━━━━━━━━━━━━━━━━━━━━━━━━━━━━━━━━━━━━━\u001b[0m \u001b[32m1.6/1.6 MB\u001b[0m \u001b[31m31.1 MB/s\u001b[0m eta \u001b[36m0:00:00\u001b[0m\n",
            "\u001b[?25hInstalling collected packages: jedi, itables\n",
            "Successfully installed itables-2.4.2 jedi-0.19.2\n"
          ]
        }
      ],
      "source": [
        "!pip install itables"
      ]
    },
    {
      "cell_type": "code",
      "execution_count": null,
      "metadata": {
        "id": "TgrFAHmhFsCt"
      },
      "outputs": [],
      "source": [
        "import pandas as pd\n",
        "import numpy as np\n",
        "\n",
        "from sklearn.linear_model import LassoCV\n",
        "from sklearn.linear_model import LogisticRegression\n",
        "from sklearn.ensemble import RandomForestClassifier, GradientBoostingClassifier, RandomForestRegressor\n",
        "from sklearn.neighbors import KNeighborsClassifier\n",
        "\n",
        "from sklearn.metrics import accuracy_score, precision_score, recall_score, f1_score, roc_auc_score\n",
        "\n",
        "from sklearn.model_selection import train_test_split, GridSearchCV\n",
        "from sklearn.preprocessing import StandardScaler\n",
        "\n",
        "from xgboost import XGBClassifier\n",
        "from catboost import CatBoostClassifier\n",
        "\n",
        "import matplotlib.pyplot as plt\n",
        "\n",
        "import itables\n",
        "from itables import show"
      ]
    },
    {
      "cell_type": "code",
      "execution_count": null,
      "metadata": {
        "colab": {
          "base_uri": "https://localhost:8080/",
          "height": 193
        },
        "id": "3b40YxWJGuTb",
        "outputId": "0cc2fe1b-e23f-45e5-8df2-f610a073fba1"
      },
      "outputs": [
        {
          "data": {
            "application/vnd.google.colaboratory.intrinsic+json": {
              "type": "dataframe",
              "variable_name": "data"
            },
            "text/html": [
              "\n",
              "  <div id=\"df-444f8afd-ec88-4c2c-9559-11dc76317d5f\" class=\"colab-df-container\">\n",
              "    <div>\n",
              "<style scoped>\n",
              "    .dataframe tbody tr th:only-of-type {\n",
              "        vertical-align: middle;\n",
              "    }\n",
              "\n",
              "    .dataframe tbody tr th {\n",
              "        vertical-align: top;\n",
              "    }\n",
              "\n",
              "    .dataframe thead th {\n",
              "        text-align: right;\n",
              "    }\n",
              "</style>\n",
              "<table border=\"1\" class=\"dataframe\">\n",
              "  <thead>\n",
              "    <tr style=\"text-align: right;\">\n",
              "      <th></th>\n",
              "      <th>MaxAbsEStateIndex</th>\n",
              "      <th>MinAbsEStateIndex</th>\n",
              "      <th>MinEStateIndex</th>\n",
              "      <th>qed</th>\n",
              "      <th>SPS</th>\n",
              "      <th>MolWt</th>\n",
              "      <th>MaxPartialCharge</th>\n",
              "      <th>MinPartialCharge</th>\n",
              "      <th>FpDensityMorgan1</th>\n",
              "      <th>BCUT2D_MWHI</th>\n",
              "      <th>...</th>\n",
              "      <th>fr_piperdine</th>\n",
              "      <th>fr_piperzine</th>\n",
              "      <th>fr_priamide</th>\n",
              "      <th>fr_pyridine</th>\n",
              "      <th>fr_quatN</th>\n",
              "      <th>fr_sulfide</th>\n",
              "      <th>fr_thiazole</th>\n",
              "      <th>fr_thiophene</th>\n",
              "      <th>fr_unbrch_alkane</th>\n",
              "      <th>SI</th>\n",
              "    </tr>\n",
              "  </thead>\n",
              "  <tbody>\n",
              "    <tr>\n",
              "      <th>0</th>\n",
              "      <td>5.094096</td>\n",
              "      <td>0.387225</td>\n",
              "      <td>0.387225</td>\n",
              "      <td>0.417362</td>\n",
              "      <td>42.928571</td>\n",
              "      <td>384.652</td>\n",
              "      <td>0.038844</td>\n",
              "      <td>-0.293526</td>\n",
              "      <td>0.642857</td>\n",
              "      <td>14.822266</td>\n",
              "      <td>...</td>\n",
              "      <td>0</td>\n",
              "      <td>0</td>\n",
              "      <td>0</td>\n",
              "      <td>0</td>\n",
              "      <td>0</td>\n",
              "      <td>0</td>\n",
              "      <td>0</td>\n",
              "      <td>0</td>\n",
              "      <td>3</td>\n",
              "      <td>28.125</td>\n",
              "    </tr>\n",
              "    <tr>\n",
              "      <th>1</th>\n",
              "      <td>3.961417</td>\n",
              "      <td>0.533868</td>\n",
              "      <td>0.533868</td>\n",
              "      <td>0.462473</td>\n",
              "      <td>45.214286</td>\n",
              "      <td>388.684</td>\n",
              "      <td>0.012887</td>\n",
              "      <td>-0.313407</td>\n",
              "      <td>0.607143</td>\n",
              "      <td>14.975110</td>\n",
              "      <td>...</td>\n",
              "      <td>0</td>\n",
              "      <td>0</td>\n",
              "      <td>0</td>\n",
              "      <td>0</td>\n",
              "      <td>0</td>\n",
              "      <td>0</td>\n",
              "      <td>0</td>\n",
              "      <td>0</td>\n",
              "      <td>3</td>\n",
              "      <td>7.000</td>\n",
              "    </tr>\n",
              "    <tr>\n",
              "      <th>2</th>\n",
              "      <td>2.627117</td>\n",
              "      <td>0.543231</td>\n",
              "      <td>0.543231</td>\n",
              "      <td>0.260923</td>\n",
              "      <td>42.187500</td>\n",
              "      <td>446.808</td>\n",
              "      <td>0.094802</td>\n",
              "      <td>-0.325573</td>\n",
              "      <td>0.562500</td>\n",
              "      <td>15.353938</td>\n",
              "      <td>...</td>\n",
              "      <td>0</td>\n",
              "      <td>0</td>\n",
              "      <td>0</td>\n",
              "      <td>0</td>\n",
              "      <td>2</td>\n",
              "      <td>0</td>\n",
              "      <td>0</td>\n",
              "      <td>0</td>\n",
              "      <td>3</td>\n",
              "      <td>0.720</td>\n",
              "    </tr>\n",
              "  </tbody>\n",
              "</table>\n",
              "<p>3 rows × 95 columns</p>\n",
              "</div>\n",
              "    <div class=\"colab-df-buttons\">\n",
              "\n",
              "  <div class=\"colab-df-container\">\n",
              "    <button class=\"colab-df-convert\" onclick=\"convertToInteractive('df-444f8afd-ec88-4c2c-9559-11dc76317d5f')\"\n",
              "            title=\"Convert this dataframe to an interactive table.\"\n",
              "            style=\"display:none;\">\n",
              "\n",
              "  <svg xmlns=\"http://www.w3.org/2000/svg\" height=\"24px\" viewBox=\"0 -960 960 960\">\n",
              "    <path d=\"M120-120v-720h720v720H120Zm60-500h600v-160H180v160Zm220 220h160v-160H400v160Zm0 220h160v-160H400v160ZM180-400h160v-160H180v160Zm440 0h160v-160H620v160ZM180-180h160v-160H180v160Zm440 0h160v-160H620v160Z\"/>\n",
              "  </svg>\n",
              "    </button>\n",
              "\n",
              "  <style>\n",
              "    .colab-df-container {\n",
              "      display:flex;\n",
              "      gap: 12px;\n",
              "    }\n",
              "\n",
              "    .colab-df-convert {\n",
              "      background-color: #E8F0FE;\n",
              "      border: none;\n",
              "      border-radius: 50%;\n",
              "      cursor: pointer;\n",
              "      display: none;\n",
              "      fill: #1967D2;\n",
              "      height: 32px;\n",
              "      padding: 0 0 0 0;\n",
              "      width: 32px;\n",
              "    }\n",
              "\n",
              "    .colab-df-convert:hover {\n",
              "      background-color: #E2EBFA;\n",
              "      box-shadow: 0px 1px 2px rgba(60, 64, 67, 0.3), 0px 1px 3px 1px rgba(60, 64, 67, 0.15);\n",
              "      fill: #174EA6;\n",
              "    }\n",
              "\n",
              "    .colab-df-buttons div {\n",
              "      margin-bottom: 4px;\n",
              "    }\n",
              "\n",
              "    [theme=dark] .colab-df-convert {\n",
              "      background-color: #3B4455;\n",
              "      fill: #D2E3FC;\n",
              "    }\n",
              "\n",
              "    [theme=dark] .colab-df-convert:hover {\n",
              "      background-color: #434B5C;\n",
              "      box-shadow: 0px 1px 3px 1px rgba(0, 0, 0, 0.15);\n",
              "      filter: drop-shadow(0px 1px 2px rgba(0, 0, 0, 0.3));\n",
              "      fill: #FFFFFF;\n",
              "    }\n",
              "  </style>\n",
              "\n",
              "    <script>\n",
              "      const buttonEl =\n",
              "        document.querySelector('#df-444f8afd-ec88-4c2c-9559-11dc76317d5f button.colab-df-convert');\n",
              "      buttonEl.style.display =\n",
              "        google.colab.kernel.accessAllowed ? 'block' : 'none';\n",
              "\n",
              "      async function convertToInteractive(key) {\n",
              "        const element = document.querySelector('#df-444f8afd-ec88-4c2c-9559-11dc76317d5f');\n",
              "        const dataTable =\n",
              "          await google.colab.kernel.invokeFunction('convertToInteractive',\n",
              "                                                    [key], {});\n",
              "        if (!dataTable) return;\n",
              "\n",
              "        const docLinkHtml = 'Like what you see? Visit the ' +\n",
              "          '<a target=\"_blank\" href=https://colab.research.google.com/notebooks/data_table.ipynb>data table notebook</a>'\n",
              "          + ' to learn more about interactive tables.';\n",
              "        element.innerHTML = '';\n",
              "        dataTable['output_type'] = 'display_data';\n",
              "        await google.colab.output.renderOutput(dataTable, element);\n",
              "        const docLink = document.createElement('div');\n",
              "        docLink.innerHTML = docLinkHtml;\n",
              "        element.appendChild(docLink);\n",
              "      }\n",
              "    </script>\n",
              "  </div>\n",
              "\n",
              "\n",
              "    <div id=\"df-10d76a39-76ad-418d-8df7-f839d6b5db47\">\n",
              "      <button class=\"colab-df-quickchart\" onclick=\"quickchart('df-10d76a39-76ad-418d-8df7-f839d6b5db47')\"\n",
              "                title=\"Suggest charts\"\n",
              "                style=\"display:none;\">\n",
              "\n",
              "<svg xmlns=\"http://www.w3.org/2000/svg\" height=\"24px\"viewBox=\"0 0 24 24\"\n",
              "     width=\"24px\">\n",
              "    <g>\n",
              "        <path d=\"M19 3H5c-1.1 0-2 .9-2 2v14c0 1.1.9 2 2 2h14c1.1 0 2-.9 2-2V5c0-1.1-.9-2-2-2zM9 17H7v-7h2v7zm4 0h-2V7h2v10zm4 0h-2v-4h2v4z\"/>\n",
              "    </g>\n",
              "</svg>\n",
              "      </button>\n",
              "\n",
              "<style>\n",
              "  .colab-df-quickchart {\n",
              "      --bg-color: #E8F0FE;\n",
              "      --fill-color: #1967D2;\n",
              "      --hover-bg-color: #E2EBFA;\n",
              "      --hover-fill-color: #174EA6;\n",
              "      --disabled-fill-color: #AAA;\n",
              "      --disabled-bg-color: #DDD;\n",
              "  }\n",
              "\n",
              "  [theme=dark] .colab-df-quickchart {\n",
              "      --bg-color: #3B4455;\n",
              "      --fill-color: #D2E3FC;\n",
              "      --hover-bg-color: #434B5C;\n",
              "      --hover-fill-color: #FFFFFF;\n",
              "      --disabled-bg-color: #3B4455;\n",
              "      --disabled-fill-color: #666;\n",
              "  }\n",
              "\n",
              "  .colab-df-quickchart {\n",
              "    background-color: var(--bg-color);\n",
              "    border: none;\n",
              "    border-radius: 50%;\n",
              "    cursor: pointer;\n",
              "    display: none;\n",
              "    fill: var(--fill-color);\n",
              "    height: 32px;\n",
              "    padding: 0;\n",
              "    width: 32px;\n",
              "  }\n",
              "\n",
              "  .colab-df-quickchart:hover {\n",
              "    background-color: var(--hover-bg-color);\n",
              "    box-shadow: 0 1px 2px rgba(60, 64, 67, 0.3), 0 1px 3px 1px rgba(60, 64, 67, 0.15);\n",
              "    fill: var(--button-hover-fill-color);\n",
              "  }\n",
              "\n",
              "  .colab-df-quickchart-complete:disabled,\n",
              "  .colab-df-quickchart-complete:disabled:hover {\n",
              "    background-color: var(--disabled-bg-color);\n",
              "    fill: var(--disabled-fill-color);\n",
              "    box-shadow: none;\n",
              "  }\n",
              "\n",
              "  .colab-df-spinner {\n",
              "    border: 2px solid var(--fill-color);\n",
              "    border-color: transparent;\n",
              "    border-bottom-color: var(--fill-color);\n",
              "    animation:\n",
              "      spin 1s steps(1) infinite;\n",
              "  }\n",
              "\n",
              "  @keyframes spin {\n",
              "    0% {\n",
              "      border-color: transparent;\n",
              "      border-bottom-color: var(--fill-color);\n",
              "      border-left-color: var(--fill-color);\n",
              "    }\n",
              "    20% {\n",
              "      border-color: transparent;\n",
              "      border-left-color: var(--fill-color);\n",
              "      border-top-color: var(--fill-color);\n",
              "    }\n",
              "    30% {\n",
              "      border-color: transparent;\n",
              "      border-left-color: var(--fill-color);\n",
              "      border-top-color: var(--fill-color);\n",
              "      border-right-color: var(--fill-color);\n",
              "    }\n",
              "    40% {\n",
              "      border-color: transparent;\n",
              "      border-right-color: var(--fill-color);\n",
              "      border-top-color: var(--fill-color);\n",
              "    }\n",
              "    60% {\n",
              "      border-color: transparent;\n",
              "      border-right-color: var(--fill-color);\n",
              "    }\n",
              "    80% {\n",
              "      border-color: transparent;\n",
              "      border-right-color: var(--fill-color);\n",
              "      border-bottom-color: var(--fill-color);\n",
              "    }\n",
              "    90% {\n",
              "      border-color: transparent;\n",
              "      border-bottom-color: var(--fill-color);\n",
              "    }\n",
              "  }\n",
              "</style>\n",
              "\n",
              "      <script>\n",
              "        async function quickchart(key) {\n",
              "          const quickchartButtonEl =\n",
              "            document.querySelector('#' + key + ' button');\n",
              "          quickchartButtonEl.disabled = true;  // To prevent multiple clicks.\n",
              "          quickchartButtonEl.classList.add('colab-df-spinner');\n",
              "          try {\n",
              "            const charts = await google.colab.kernel.invokeFunction(\n",
              "                'suggestCharts', [key], {});\n",
              "          } catch (error) {\n",
              "            console.error('Error during call to suggestCharts:', error);\n",
              "          }\n",
              "          quickchartButtonEl.classList.remove('colab-df-spinner');\n",
              "          quickchartButtonEl.classList.add('colab-df-quickchart-complete');\n",
              "        }\n",
              "        (() => {\n",
              "          let quickchartButtonEl =\n",
              "            document.querySelector('#df-10d76a39-76ad-418d-8df7-f839d6b5db47 button');\n",
              "          quickchartButtonEl.style.display =\n",
              "            google.colab.kernel.accessAllowed ? 'block' : 'none';\n",
              "        })();\n",
              "      </script>\n",
              "    </div>\n",
              "    </div>\n",
              "  </div>\n"
            ],
            "text/plain": [
              "   MaxAbsEStateIndex  MinAbsEStateIndex  MinEStateIndex       qed        SPS  \\\n",
              "0           5.094096           0.387225        0.387225  0.417362  42.928571   \n",
              "1           3.961417           0.533868        0.533868  0.462473  45.214286   \n",
              "2           2.627117           0.543231        0.543231  0.260923  42.187500   \n",
              "\n",
              "     MolWt  MaxPartialCharge  MinPartialCharge  FpDensityMorgan1  BCUT2D_MWHI  \\\n",
              "0  384.652          0.038844         -0.293526          0.642857    14.822266   \n",
              "1  388.684          0.012887         -0.313407          0.607143    14.975110   \n",
              "2  446.808          0.094802         -0.325573          0.562500    15.353938   \n",
              "\n",
              "   ...  fr_piperdine  fr_piperzine  fr_priamide  fr_pyridine  fr_quatN  \\\n",
              "0  ...             0             0            0            0         0   \n",
              "1  ...             0             0            0            0         0   \n",
              "2  ...             0             0            0            0         2   \n",
              "\n",
              "   fr_sulfide  fr_thiazole  fr_thiophene  fr_unbrch_alkane      SI  \n",
              "0           0            0             0                 3  28.125  \n",
              "1           0            0             0                 3   7.000  \n",
              "2           0            0             0                 3   0.720  \n",
              "\n",
              "[3 rows x 95 columns]"
            ]
          },
          "execution_count": 5,
          "metadata": {},
          "output_type": "execute_result"
        }
      ],
      "source": [
        "# Загрузка данных\n",
        "path = 'data_eda.csv'\n",
        "data = pd.read_csv(path).drop(columns=['Unnamed: 0', 'IC50, mM','CC50, mM'], axis=1)\n",
        "data.head(3)"
      ]
    },
    {
      "cell_type": "code",
      "execution_count": null,
      "metadata": {
        "colab": {
          "base_uri": "https://localhost:8080/",
          "height": 503
        },
        "id": "ZVRKl9X2HKE0",
        "outputId": "33a36935-d0ce-4989-c614-c2bb60cb29a1"
      },
      "outputs": [
        {
          "data": {
            "text/html": [
              "<!--| quarto-html-table-processing: none -->\n",
              "<table id=\"itables_691c171f_ec0b_4f5f_ac93_456d058e12cd\"><tbody><tr>\n",
              "    <td style=\"vertical-align:middle; text-align:left\">\n",
              "    <a href=https://mwouts.github.io/itables/><svg class=\"main-svg\" xmlns=\"http://www.w3.org/2000/svg\" xmlns:xlink=\"http://www.w3.org/1999/xlink\"\n",
              "width=\"64\" viewBox=\"0 0 500 400\" style=\"font-family: 'Droid Sans', sans-serif;\">\n",
              "    <g style=\"fill:#d9d7fc\">\n",
              "        <path d=\"M100,400H500V357H100Z\" />\n",
              "        <path d=\"M100,300H400V257H100Z\" />\n",
              "        <path d=\"M0,200H400V157H0Z\" />\n",
              "        <path d=\"M100,100H500V57H100Z\" />\n",
              "        <path d=\"M100,350H500V307H100Z\" />\n",
              "        <path d=\"M100,250H400V207H100Z\" />\n",
              "        <path d=\"M0,150H400V107H0Z\" />\n",
              "        <path d=\"M100,50H500V7H100Z\" />\n",
              "    </g>\n",
              "    <g style=\"fill:#1a1366;stroke:#1a1366;\">\n",
              "   <rect x=\"100\" y=\"7\" width=\"400\" height=\"43\">\n",
              "    <animate\n",
              "      attributeName=\"width\"\n",
              "      values=\"0;400;0\"\n",
              "      dur=\"5s\"\n",
              "      repeatCount=\"indefinite\" />\n",
              "      <animate\n",
              "      attributeName=\"x\"\n",
              "      values=\"100;100;500\"\n",
              "      dur=\"5s\"\n",
              "      repeatCount=\"indefinite\" />\n",
              "  </rect>\n",
              "        <rect x=\"0\" y=\"107\" width=\"400\" height=\"43\">\n",
              "    <animate\n",
              "      attributeName=\"width\"\n",
              "      values=\"0;400;0\"\n",
              "      dur=\"3.5s\"\n",
              "      repeatCount=\"indefinite\" />\n",
              "    <animate\n",
              "      attributeName=\"x\"\n",
              "      values=\"0;0;400\"\n",
              "      dur=\"3.5s\"\n",
              "      repeatCount=\"indefinite\" />\n",
              "  </rect>\n",
              "        <rect x=\"100\" y=\"207\" width=\"300\" height=\"43\">\n",
              "    <animate\n",
              "      attributeName=\"width\"\n",
              "      values=\"0;300;0\"\n",
              "      dur=\"3s\"\n",
              "      repeatCount=\"indefinite\" />\n",
              "    <animate\n",
              "      attributeName=\"x\"\n",
              "      values=\"100;100;400\"\n",
              "      dur=\"3s\"\n",
              "      repeatCount=\"indefinite\" />\n",
              "  </rect>\n",
              "        <rect x=\"100\" y=\"307\" width=\"400\" height=\"43\">\n",
              "    <animate\n",
              "      attributeName=\"width\"\n",
              "      values=\"0;400;0\"\n",
              "      dur=\"4s\"\n",
              "      repeatCount=\"indefinite\" />\n",
              "      <animate\n",
              "      attributeName=\"x\"\n",
              "      values=\"100;100;500\"\n",
              "      dur=\"4s\"\n",
              "      repeatCount=\"indefinite\" />\n",
              "  </rect>\n",
              "        <g style=\"fill:transparent;stroke-width:8; stroke-linejoin:round\" rx=\"5\">\n",
              "            <g transform=\"translate(45 50) rotate(-45)\">\n",
              "                <circle r=\"33\" cx=\"0\" cy=\"0\" />\n",
              "                <rect x=\"-8\" y=\"32\" width=\"16\" height=\"30\" />\n",
              "            </g>\n",
              "\n",
              "            <g transform=\"translate(450 152)\">\n",
              "                <polyline points=\"-15,-20 -35,-20 -35,40 25,40 25,20\" />\n",
              "                <rect x=\"-15\" y=\"-40\" width=\"60\" height=\"60\" />\n",
              "            </g>\n",
              "\n",
              "            <g transform=\"translate(50 352)\">\n",
              "                <polygon points=\"-35,-5 0,-40 35,-5\" />\n",
              "                <polygon points=\"-35,10 0,45 35,10\" />\n",
              "            </g>\n",
              "\n",
              "            <g transform=\"translate(75 250)\">\n",
              "                <polyline points=\"-30,30 -60,0 -30,-30\" />\n",
              "                <polyline points=\"0,30 -30,0 0,-30\" />\n",
              "            </g>\n",
              "\n",
              "            <g transform=\"translate(425 250) rotate(180)\">\n",
              "                <polyline points=\"-30,30 -60,0 -30,-30\" />\n",
              "                <polyline points=\"0,30 -30,0 0,-30\" />\n",
              "            </g>\n",
              "        </g>\n",
              "    </g>\n",
              "</svg>\n",
              "</a>\n",
              "    Loading ITables v2.4.2 from the internet...\n",
              "    (need <a href=https://mwouts.github.io/itables/troubleshooting.html>help</a>?)</td>\n",
              "    </tr></tbody></table>\n",
              "<link href=\"https://www.unpkg.com/dt_for_itables@2.3.3/dt_bundle.css\" rel=\"stylesheet\">\n",
              "<script type=\"module\">\n",
              "    import { ITable, jQuery as $ } from 'https://www.unpkg.com/dt_for_itables@2.3.3/dt_bundle.js';\n",
              "\n",
              "    document.querySelectorAll(\"#itables_691c171f_ec0b_4f5f_ac93_456d058e12cd:not(.dataTable)\").forEach(table => {\n",
              "        if (!(table instanceof HTMLTableElement))\n",
              "            return;\n",
              "\n",
              "        let dt_args = {\"layout\": {\"topStart\": \"pageLength\", \"topEnd\": \"search\", \"bottomStart\": \"info\", \"bottomEnd\": \"paging\"}, \"style\": {\"table-layout\": \"auto\", \"width\": \"auto\", \"margin\": \"auto\", \"caption-side\": \"bottom\"}, \"classes\": [\"display\", \"nowrap\"], \"order\": [], \"text_in_header_can_be_selected\": true, \"table_html\": \"<table><thead>\\n    <tr style=\\\"text-align: right;\\\">\\n      <th></th>\\n      <th>SI</th>\\n    </tr>\\n  </thead></table>\", \"data_json\": \"[[\\\"MaxAbsEStateIndex\\\", 0.004979], [\\\"MinAbsEStateIndex\\\", -0.055604], [\\\"MinEStateIndex\\\", 0.020475], [\\\"qed\\\", 0.041375], [\\\"SPS\\\", -0.004323], [\\\"MolWt\\\", -0.042891], [\\\"MaxPartialCharge\\\", 0.04349], [\\\"MinPartialCharge\\\", -0.054898], [\\\"FpDensityMorgan1\\\", 0.088005], [\\\"BCUT2D_MWHI\\\", -0.038139], [\\\"BCUT2D_MWLOW\\\", -0.015692], [\\\"BCUT2D_CHGHI\\\", -0.032301], [\\\"BCUT2D_CHGLO\\\", -0.015276], [\\\"BCUT2D_MRLOW\\\", -0.040424], [\\\"BalabanJ\\\", 0.170718], [\\\"Ipc\\\", -0.004014], [\\\"PEOE_VSA1\\\", 0.034082], [\\\"PEOE_VSA10\\\", -0.050267], [\\\"PEOE_VSA11\\\", -0.042638], [\\\"PEOE_VSA12\\\", 0.017947], [\\\"PEOE_VSA13\\\", -0.035875], [\\\"PEOE_VSA14\\\", 0.036822], [\\\"PEOE_VSA2\\\", -0.031286], [\\\"PEOE_VSA3\\\", 0.025303], [\\\"PEOE_VSA4\\\", -0.039494], [\\\"PEOE_VSA5\\\", -0.036088], [\\\"PEOE_VSA6\\\", -0.039511], [\\\"PEOE_VSA7\\\", -0.037877], [\\\"PEOE_VSA8\\\", -0.00634], [\\\"PEOE_VSA9\\\", 0.032603], [\\\"SMR_VSA10\\\", -0.032327], [\\\"SMR_VSA3\\\", -0.016596], [\\\"SMR_VSA4\\\", -0.014324], [\\\"SMR_VSA5\\\", 0.066382], [\\\"SMR_VSA6\\\", -0.034184], [\\\"SlogP_VSA1\\\", 0.037845], [\\\"SlogP_VSA2\\\", 0.020779], [\\\"SlogP_VSA3\\\", 0.058707], [\\\"SlogP_VSA7\\\", -0.01089], [\\\"SlogP_VSA8\\\", -0.052349], [\\\"EState_VSA11\\\", -0.014324], [\\\"EState_VSA2\\\", 0.07141], [\\\"EState_VSA3\\\", -0.035125], [\\\"EState_VSA4\\\", -0.042482], [\\\"EState_VSA5\\\", -0.030217], [\\\"EState_VSA6\\\", -0.025581], [\\\"EState_VSA7\\\", -0.010932], [\\\"EState_VSA8\\\", -0.03967], [\\\"EState_VSA9\\\", 0.038515], [\\\"VSA_EState4\\\", 0.090994], [\\\"VSA_EState5\\\", -0.0133], [\\\"VSA_EState7\\\", 0.005329], [\\\"VSA_EState9\\\", 0.000791], [\\\"NumAliphaticHeterocycles\\\", -0.078106], [\\\"NumAromaticHeterocycles\\\", -0.06365], [\\\"NumSaturatedHeterocycles\\\", -0.063427], [\\\"MolLogP\\\", -0.076806], [\\\"fr_Al_COO\\\", 0.104144], [\\\"fr_ArN\\\", -0.011863], [\\\"fr_Ar_NH\\\", -0.015658], [\\\"fr_Ar_OH\\\", -0.019379], [\\\"fr_C_S\\\", -0.019956], [\\\"fr_Imine\\\", -0.011551], [\\\"fr_NH1\\\", 0.065949], [\\\"fr_NH2\\\", 0.170333], [\\\"fr_Ndealkylation1\\\", 0.013352], [\\\"fr_Ndealkylation2\\\", -0.027792], [\\\"fr_allylic_oxid\\\", -0.041373], [\\\"fr_amide\\\", 0.050645], [\\\"fr_aniline\\\", -0.035227], [\\\"fr_aryl_methyl\\\", -0.036573], [\\\"fr_bicyclic\\\", -0.067578], [\\\"fr_epoxide\\\", -0.002513], [\\\"fr_ester\\\", 0.047626], [\\\"fr_furan\\\", -0.019775], [\\\"fr_hdrzone\\\", -0.023518], [\\\"fr_imidazole\\\", -0.02089], [\\\"fr_imide\\\", -0.015971], [\\\"fr_ketone\\\", -0.035479], [\\\"fr_lactone\\\", -0.018957], [\\\"fr_methoxy\\\", -0.030734], [\\\"fr_morpholine\\\", -0.019945], [\\\"fr_nitro\\\", -0.015539], [\\\"fr_oxime\\\", -0.005836], [\\\"fr_para_hydroxylation\\\", -0.029101], [\\\"fr_piperdine\\\", -0.023497], [\\\"fr_piperzine\\\", -0.008052], [\\\"fr_priamide\\\", -0.008559], [\\\"fr_pyridine\\\", -0.012282], [\\\"fr_quatN\\\", 0.018713], [\\\"fr_sulfide\\\", -0.019744], [\\\"fr_thiazole\\\", -0.021893], [\\\"fr_thiophene\\\", -0.024143], [\\\"fr_unbrch_alkane\\\", -0.007742], [\\\"SI\\\", 1.0]]\"};\n",
              "        new ITable(table, dt_args);\n",
              "    });\n",
              "</script>\n"
            ],
            "text/plain": [
              "<IPython.core.display.HTML object>"
            ]
          },
          "metadata": {},
          "output_type": "display_data"
        }
      ],
      "source": [
        "show(data.corr()['SI'])"
      ]
    },
    {
      "cell_type": "markdown",
      "metadata": {
        "id": "UcgVDAXg71_1"
      },
      "source": [
        "Я не стала отбирать выбросы у индекса селективности, поскольку это очень сильно снижало метрики. К тому же, это классификация, и небольшое количество выбросов так сильно не влияет на предсказание, как если бы речь шла о регрессии. Также я применила логарифмирование, поскольку это улучшает распределение целевой (и метрики)."
      ]
    },
    {
      "cell_type": "code",
      "execution_count": null,
      "metadata": {
        "id": "kLFpVszEY2PO"
      },
      "outputs": [],
      "source": [
        "data['SI'] = data['SI'].apply(np.log)\n",
        "X = data.drop('SI', axis=1)\n",
        "y = data['SI']\n",
        "\n",
        "# Разделение на трейн/тест\n",
        "X_train, X_test, y_train, y_test = train_test_split(X, y, test_size=0.2, random_state=42)"
      ]
    },
    {
      "cell_type": "code",
      "execution_count": null,
      "metadata": {
        "id": "EnysWzDcY9FN"
      },
      "outputs": [],
      "source": [
        "def define_target_value(value):\n",
        "  if value > median:\n",
        "    return 1\n",
        "\n",
        "  return 0\n",
        "\n",
        "median = y_train.median()\n",
        "y_train = y_train.apply(define_target_value)\n",
        "y_test = y_test.apply(define_target_value)"
      ]
    },
    {
      "cell_type": "code",
      "execution_count": null,
      "metadata": {
        "id": "pyj9bB5vcAh0"
      },
      "outputs": [],
      "source": [
        "data['target'] = data['SI'].apply(define_target_value)"
      ]
    },
    {
      "cell_type": "markdown",
      "metadata": {
        "id": "Y9Su4Mzl8PdC"
      },
      "source": [
        "# Отбор признаков разными алгоритмами"
      ]
    },
    {
      "cell_type": "code",
      "execution_count": null,
      "metadata": {
        "id": "tU3bhncmH37l"
      },
      "outputs": [],
      "source": [
        "def correlation_feature_selections(df, target_col, threshold=0.1):\n",
        "    # Оставляем только числовые признаки\n",
        "    df_numeric = df.select_dtypes(include=[float, int])\n",
        "\n",
        "    # Вычисляем корреляции с целевой переменной\n",
        "    correlations = df_numeric.corr()[target_col].abs().sort_values(ascending=False)\n",
        "\n",
        "    # Отбираем признаки с корреляцией выше порога\n",
        "    selected_features = correlations[correlations > threshold].index.tolist()\n",
        "    selected_features.remove(target_col)  # удаляем целевую переменную из признаков\n",
        "\n",
        "    print(f\"Выбранные признаки ({len(selected_features)}): {selected_features}\")\n",
        "    return selected_features"
      ]
    },
    {
      "cell_type": "code",
      "execution_count": null,
      "metadata": {
        "colab": {
          "base_uri": "https://localhost:8080/"
        },
        "id": "JiiMTa9UH3HG",
        "outputId": "0ff839b4-9c93-47f9-98f5-1f5f4f7de848"
      },
      "outputs": [
        {
          "name": "stdout",
          "output_type": "stream",
          "text": [
            "Выбранные признаки (22): ['NumSaturatedHeterocycles', 'NumAliphaticHeterocycles', 'MaxAbsEStateIndex', 'MaxPartialCharge', 'fr_Imine', 'fr_NH2', 'SlogP_VSA3', 'MinEStateIndex', 'PEOE_VSA14', 'VSA_EState4', 'SMR_VSA4', 'VSA_EState5', 'VSA_EState7', 'EState_VSA5', 'PEOE_VSA2', 'fr_nitro', 'MolWt', 'PEOE_VSA9', 'fr_Ndealkylation2', 'SPS', 'fr_methoxy', 'fr_imide']\n"
          ]
        }
      ],
      "source": [
        "selected_features_by_corr = correlation_feature_selections(data.drop('SI', axis=1), target_col='target')"
      ]
    },
    {
      "cell_type": "code",
      "execution_count": null,
      "metadata": {
        "id": "zewG-2JvIA93"
      },
      "outputs": [],
      "source": [
        "def random_forest_feature_selection(df, target_col, n_top=20):\n",
        "    X = df.drop(columns=[target_col])\n",
        "    y = df[target_col]\n",
        "\n",
        "    # Разделение на трейн/тест\n",
        "    X_train, _, y_train, _ = train_test_split(X, y, test_size=0.2, random_state=42)\n",
        "\n",
        "    # Обучаем модель\n",
        "    model = RandomForestRegressor(n_estimators=100, random_state=42)\n",
        "    model.fit(X_train, y_train)\n",
        "\n",
        "    # Получаем важность признаков\n",
        "    importance = pd.Series(model.feature_importances_, index=X.columns).sort_values(ascending=False)\n",
        "\n",
        "    # Выводим топ-N самых важных\n",
        "    top_features = importance.head(n_top).index.tolist()\n",
        "    print(f\"Топ-{n_top} важных признаков:\\n\", top_features)\n",
        "\n",
        "    # График важности\n",
        "    importance.nlargest(n_top).plot(kind='barh', figsize=(10, 8))\n",
        "    plt.title(\"Feature Importance\")\n",
        "    plt.show()\n",
        "\n",
        "    return top_features"
      ]
    },
    {
      "cell_type": "code",
      "execution_count": null,
      "metadata": {
        "colab": {
          "base_uri": "https://localhost:8080/",
          "height": 736
        },
        "id": "MDc_HGrAInao",
        "outputId": "8a6b5216-2820-42cc-9870-6f464fee7a25"
      },
      "outputs": [
        {
          "name": "stdout",
          "output_type": "stream",
          "text": [
            "Топ-10 важных признаков:\n",
            " ['BCUT2D_MRLOW', 'MinEStateIndex', 'qed', 'VSA_EState4', 'MaxAbsEStateIndex', 'BCUT2D_MWLOW', 'BCUT2D_CHGLO', 'SPS', 'PEOE_VSA7', 'VSA_EState5']\n"
          ]
        },
        {
          "data": {
            "image/png": "[encoded data removed]",
            "text/plain": [
              "<Figure size 1000x800 with 1 Axes>"
            ]
          },
          "metadata": {},
          "output_type": "display_data"
        }
      ],
      "source": [
        "selected_features_by_rand_for = random_forest_feature_selection(data.drop('SI', axis=1), target_col='target', n_top=10)"
      ]
    },
    {
      "cell_type": "code",
      "execution_count": null,
      "metadata": {
        "id": "tHeXB-4cODsv"
      },
      "outputs": [],
      "source": [
        "def lasso_feature_selection(df, target_col):\n",
        "    X = df.drop(columns=[target_col])\n",
        "    y = df[target_col]\n",
        "\n",
        "    # Стандартизируем данные\n",
        "    scaler = StandardScaler()\n",
        "    X_scaled = scaler.fit_transform(X)\n",
        "\n",
        "    # Подбор оптимального alpha и обучение Lasso\n",
        "    model = LassoCV(cv=5, random_state=42, max_iter=10000)\n",
        "    model.fit(X_scaled, y)\n",
        "\n",
        "    # Определяем, какие признаки не занулены\n",
        "    coef = pd.Series(model.coef_, index=X.columns)\n",
        "    selected_features = coef[coef != 0].index.tolist()\n",
        "\n",
        "    print(f\"Коэффициенты:\\n{coef.sort_values(ascending=False)}\")\n",
        "    print(f\"Оставлено признаков: {len(selected_features)}\")\n",
        "    print(\"Оставленные признаки:\", selected_features)\n",
        "\n",
        "    return selected_features"
      ]
    },
    {
      "cell_type": "code",
      "execution_count": null,
      "metadata": {
        "colab": {
          "base_uri": "https://localhost:8080/"
        },
        "id": "EycSa3h0OgL6",
        "outputId": "89af5611-a0c4-4b62-b9e4-52817673167d"
      },
      "outputs": [
        {
          "name": "stdout",
          "output_type": "stream",
          "text": [
            "Коэффициенты:\n",
            "fr_NH2                      0.020193\n",
            "fr_Imine                    0.017284\n",
            "MinEStateIndex              0.005634\n",
            "VSA_EState5                 0.002011\n",
            "SPS                         0.000295\n",
            "                              ...   \n",
            "MaxPartialCharge           -0.003266\n",
            "fr_methoxy                 -0.004464\n",
            "fr_nitro                   -0.007485\n",
            "PEOE_VSA14                 -0.016419\n",
            "NumSaturatedHeterocycles   -0.046558\n",
            "Length: 94, dtype: float64\n",
            "Оставлено признаков: 14\n",
            "Оставленные признаки: ['MaxAbsEStateIndex', 'MinEStateIndex', 'SPS', 'MaxPartialCharge', 'PEOE_VSA14', 'SlogP_VSA3', 'VSA_EState5', 'NumAliphaticHeterocycles', 'NumSaturatedHeterocycles', 'fr_Imine', 'fr_NH2', 'fr_allylic_oxid', 'fr_methoxy', 'fr_nitro']\n"
          ]
        }
      ],
      "source": [
        "selected_features_by_lasso = lasso_feature_selection(data.drop('SI', axis=1), target_col='target')"
      ]
    },
    {
      "cell_type": "markdown",
      "metadata": {
        "id": "TusMicSUPEzo"
      },
      "source": [
        "# Подбор моделей, гиперпарметров для них и предсказание с помощью самых лучших парметров"
      ]
    },
    {
      "cell_type": "code",
      "execution_count": null,
      "metadata": {
        "id": "c6YI0IBrQFyW"
      },
      "outputs": [],
      "source": [
        "def get_models():\n",
        "  return {\n",
        "      \"Logistic Regression\": {\n",
        "          \"model\": LogisticRegression(),\n",
        "          \"params\": {\n",
        "              'C': [0.01, 0.1, 1, 10, 100],\n",
        "              'penalty': ['l1', 'l2'],\n",
        "              'solver': ['liblinear']\n",
        "          }\n",
        "      },\n",
        "      \"Random Forest\": {\n",
        "          \"model\": RandomForestClassifier(random_state=42),\n",
        "          \"params\": {\n",
        "              'n_estimators': [50, 100, 200],\n",
        "              'max_depth': [None, 5, 10, 20],\n",
        "              'min_samples_split': [2, 5, 10],\n",
        "              'min_samples_leaf': [1, 2, 4],\n",
        "              'criterion': ['gini', 'entropy']\n",
        "          }\n",
        "      },\n",
        "      \"Gradient Boosting\": {\n",
        "          \"model\": GradientBoostingClassifier(random_state=42),\n",
        "          \"params\": {\n",
        "              'n_estimators': [50, 100, 200],\n",
        "              'learning_rate': [0.01, 0.1, 0.2],\n",
        "              'max_depth': [3, 5, 7],\n",
        "              'subsample': [0.8, 1.0],\n",
        "              'min_samples_split': [2, 5]\n",
        "          }\n",
        "      },\n",
        "      \"XGBoost\": {\n",
        "          \"model\": XGBClassifier(random_state=42, eval_metric='logloss'),\n",
        "          \"params\": {\n",
        "              'n_estimators': [50, 100, 200],\n",
        "              'learning_rate': [0.01, 0.1, 0.2],\n",
        "              'max_depth': [3, 5, 7],\n",
        "              'colsample_bytree': [0.7, 1.0],\n",
        "              'subsample': [0.8, 1.0]\n",
        "          }\n",
        "      },\n",
        "      \"CatBoost\": {\n",
        "          \"model\": CatBoostClassifier(random_seed=42, verbose=0),\n",
        "          \"params\": {\n",
        "              'iterations': [100, 200],\n",
        "              'learning_rate': [0.01, 0.05, 0.1],\n",
        "              'depth': [4, 6, 8],\n",
        "              'l2_leaf_reg': [1, 3, 5, 7]\n",
        "          }\n",
        "      },\n",
        "      \"KNN\": {\n",
        "          \"model\": KNeighborsClassifier(),\n",
        "          \"params\": {\n",
        "              'n_neighbors': [3, 5, 7, 10],\n",
        "              'weights': ['uniform', 'distance'],\n",
        "              'p': [1, 2]  # 1 - Manhattan, 2 - Euclidean\n",
        "          }\n",
        "      }\n",
        "  }"
      ]
    },
    {
      "cell_type": "code",
      "execution_count": null,
      "metadata": {
        "id": "VTpGTWbCQM3W"
      },
      "outputs": [],
      "source": [
        "def start_classification(X_train_final, X_test_final):\n",
        "  models = get_models()\n",
        "  results = []\n",
        "\n",
        "  for model_name, config in models.items():\n",
        "      print(f\"\\nОбучение модели: {model_name}\")\n",
        "\n",
        "      if not config['params']:  # если нет параметров для подбора\n",
        "          model = config['model']\n",
        "          model.fit(X_train_final, y_train)\n",
        "          best_params = {}\n",
        "      else:\n",
        "          grid = GridSearchCV(config['model'], config['params'], cv=5, scoring='recall', n_jobs=-1)\n",
        "          grid.fit(X_train_final, y_train)\n",
        "          model = grid.best_estimator_\n",
        "          best_params = grid.best_params_\n",
        "\n",
        "      # Предсказания\n",
        "      y_pred = model.predict(X_test_final)\n",
        "\n",
        "      # Для ROC AUC нужен predict_proba (если модель его поддерживает)\n",
        "      if hasattr(model, \"predict_proba\"):\n",
        "          y_proba = model.predict_proba(X_test_final)[:, 1]\n",
        "      else:\n",
        "          y_proba = None\n",
        "\n",
        "      # Метрики\n",
        "      accuracy = accuracy_score(y_test, y_pred)\n",
        "      precision = precision_score(y_test, y_pred)\n",
        "      recall = recall_score(y_test, y_pred)\n",
        "      f1 = f1_score(y_test, y_pred)\n",
        "\n",
        "      # Если есть вероятности, считаем ROC AUC\n",
        "      if y_proba is not None:\n",
        "          roc_auc = roc_auc_score(y_test, y_proba)\n",
        "      else:\n",
        "          roc_auc = None\n",
        "\n",
        "      results.append({\n",
        "          \"Model\": model_name,\n",
        "          \"Best Params\": best_params,\n",
        "          \"Accuracy\": accuracy,\n",
        "          \"Precision\": precision,\n",
        "          \"Recall\": recall,\n",
        "          \"F1 Score\": f1,\n",
        "          \"ROC AUC\": roc_auc\n",
        "      })\n",
        "\n",
        "      print(f\"Лучшие параметры: {best_params}\")\n",
        "      print(f\"Accuracy: {accuracy:.4f}, Precision: {precision:.4f}, Recall: {recall:.4f}, F1: {f1:.4f}\")\n",
        "      if roc_auc is not None:\n",
        "          print(f\"ROC AUC: {roc_auc:.4f}\")\n",
        "  return results"
      ]
    },
    {
      "cell_type": "markdown",
      "metadata": {
        "id": "xHwsgN4x82DZ"
      },
      "source": [
        "# Результаты"
      ]
    },
    {
      "cell_type": "code",
      "execution_count": null,
      "metadata": {
        "colab": {
          "base_uri": "https://localhost:8080/"
        },
        "id": "MvgGQ7iUcgoZ",
        "outputId": "be2dacf2-bec3-4940-cd7d-088fdba52d71"
      },
      "outputs": [
        {
          "name": "stdout",
          "output_type": "stream",
          "text": [
            "\n",
            "Обучение модели: Logistic Regression\n",
            "Лучшие параметры: {'C': 0.01, 'penalty': 'l2', 'solver': 'liblinear'}\n",
            "Accuracy: 0.6186, Precision: 0.5745, Recall: 0.6136, F1: 0.5934\n",
            "ROC AUC: 0.6531\n",
            "\n",
            "Обучение модели: Random Forest\n",
            "Лучшие параметры: {'criterion': 'gini', 'max_depth': 10, 'min_samples_leaf': 1, 'min_samples_split': 10, 'n_estimators': 100}\n",
            "Accuracy: 0.6289, Precision: 0.5870, Recall: 0.6136, F1: 0.6000\n",
            "ROC AUC: 0.6786\n",
            "\n",
            "Обучение модели: Gradient Boosting\n",
            "Лучшие параметры: {'learning_rate': 0.01, 'max_depth': 3, 'min_samples_split': 2, 'n_estimators': 200, 'subsample': 0.8}\n",
            "Accuracy: 0.6289, Precision: 0.5909, Recall: 0.5909, F1: 0.5909\n",
            "ROC AUC: 0.6744\n",
            "\n",
            "Обучение модели: XGBoost\n",
            "Лучшие параметры: {'colsample_bytree': 1.0, 'learning_rate': 0.2, 'max_depth': 3, 'n_estimators': 100, 'subsample': 1.0}\n",
            "Accuracy: 0.6186, Precision: 0.5761, Recall: 0.6023, F1: 0.5889\n",
            "ROC AUC: 0.6469\n",
            "\n",
            "Обучение модели: CatBoost\n",
            "Лучшие параметры: {'depth': 8, 'iterations': 200, 'l2_leaf_reg': 1, 'learning_rate': 0.01}\n",
            "Accuracy: 0.6443, Precision: 0.6067, Recall: 0.6136, F1: 0.6102\n",
            "ROC AUC: 0.7009\n",
            "\n",
            "Обучение модели: KNN\n",
            "Лучшие параметры: {'n_neighbors': 10, 'p': 1, 'weights': 'uniform'}\n",
            "Accuracy: 0.6495, Precision: 0.6000, Recall: 0.6818, F1: 0.6383\n",
            "ROC AUC: 0.6756\n"
          ]
        }
      ],
      "source": [
        "X_train_final = X_train[selected_features_by_corr]\n",
        "X_test_final = X_test[selected_features_by_corr]\n",
        "scaler = StandardScaler()\n",
        "X_train_final = scaler.fit_transform(X_train_final)\n",
        "X_test_final = scaler.fit_transform(X_test_final)\n",
        "res1 = start_classification(X_train_final, X_test_final)"
      ]
    },
    {
      "cell_type": "code",
      "execution_count": null,
      "metadata": {
        "colab": {
          "base_uri": "https://localhost:8080/"
        },
        "id": "ysTBukaehaYd",
        "outputId": "70a4139b-7176-412d-8a92-6ec1b208e035"
      },
      "outputs": [
        {
          "name": "stdout",
          "output_type": "stream",
          "text": [
            "\n",
            "Обучение модели: Logistic Regression\n",
            "Лучшие параметры: {'C': 10, 'penalty': 'l1', 'solver': 'liblinear'}\n",
            "Accuracy: 0.6546, Precision: 0.6129, Recall: 0.6477, F1: 0.6298\n",
            "ROC AUC: 0.6678\n",
            "\n",
            "Обучение модели: Random Forest\n",
            "Лучшие параметры: {'criterion': 'gini', 'max_depth': None, 'min_samples_leaf': 1, 'min_samples_split': 5, 'n_estimators': 100}\n",
            "Accuracy: 0.6082, Precision: 0.5667, Recall: 0.5795, F1: 0.5730\n",
            "ROC AUC: 0.6616\n",
            "\n",
            "Обучение модели: Gradient Boosting\n",
            "Лучшие параметры: {'learning_rate': 0.2, 'max_depth': 7, 'min_samples_split': 5, 'n_estimators': 100, 'subsample': 1.0}\n",
            "Accuracy: 0.5515, Precision: 0.5051, Recall: 0.5682, F1: 0.5348\n",
            "ROC AUC: 0.6162\n",
            "\n",
            "Обучение модели: XGBoost\n",
            "Лучшие параметры: {'colsample_bytree': 0.7, 'learning_rate': 0.2, 'max_depth': 7, 'n_estimators': 50, 'subsample': 0.8}\n",
            "Accuracy: 0.6340, Precision: 0.5825, Recall: 0.6818, F1: 0.6283\n",
            "ROC AUC: 0.6392\n",
            "\n",
            "Обучение модели: CatBoost\n",
            "Лучшие параметры: {'depth': 4, 'iterations': 200, 'l2_leaf_reg': 3, 'learning_rate': 0.1}\n",
            "Accuracy: 0.6186, Precision: 0.5761, Recall: 0.6023, F1: 0.5889\n",
            "ROC AUC: 0.6758\n",
            "\n",
            "Обучение модели: KNN\n",
            "Лучшие параметры: {'n_neighbors': 10, 'p': 1, 'weights': 'uniform'}\n",
            "Accuracy: 0.6134, Precision: 0.5765, Recall: 0.5568, F1: 0.5665\n",
            "ROC AUC: 0.6833\n"
          ]
        }
      ],
      "source": [
        "X_train_final = X_train[selected_features_by_lasso]\n",
        "X_test_final = X_test[selected_features_by_lasso]\n",
        "scaler = StandardScaler()\n",
        "X_train_final = scaler.fit_transform(X_train_final)\n",
        "X_test_final = scaler.fit_transform(X_test_final)\n",
        "res2 = start_classification(X_train_final, X_test_final)"
      ]
    },
    {
      "cell_type": "code",
      "execution_count": null,
      "metadata": {
        "colab": {
          "base_uri": "https://localhost:8080/"
        },
        "id": "0TW4V7Kbjqxg",
        "outputId": "632bd6a9-0ab4-4dae-9640-72e08f09eda3"
      },
      "outputs": [
        {
          "name": "stdout",
          "output_type": "stream",
          "text": [
            "\n",
            "Обучение модели: Logistic Regression\n",
            "Лучшие параметры: {'C': 10, 'penalty': 'l2', 'solver': 'liblinear'}\n",
            "Accuracy: 0.5412, Precision: 0.4955, Recall: 0.6250, F1: 0.5528\n",
            "ROC AUC: 0.5794\n",
            "\n",
            "Обучение модели: Random Forest\n",
            "Лучшие параметры: {'criterion': 'entropy', 'max_depth': 10, 'min_samples_leaf': 2, 'min_samples_split': 5, 'n_estimators': 50}\n",
            "Accuracy: 0.6443, Precision: 0.6092, Recall: 0.6023, F1: 0.6057\n",
            "ROC AUC: 0.6976\n",
            "\n",
            "Обучение модели: Gradient Boosting\n",
            "Лучшие параметры: {'learning_rate': 0.2, 'max_depth': 5, 'min_samples_split': 5, 'n_estimators': 50, 'subsample': 1.0}\n",
            "Accuracy: 0.6289, Precision: 0.5870, Recall: 0.6136, F1: 0.6000\n",
            "ROC AUC: 0.6609\n",
            "\n",
            "Обучение модели: XGBoost\n",
            "Лучшие параметры: {'colsample_bytree': 0.7, 'learning_rate': 0.2, 'max_depth': 5, 'n_estimators': 100, 'subsample': 1.0}\n",
            "Accuracy: 0.5773, Precision: 0.5312, Recall: 0.5795, F1: 0.5543\n",
            "ROC AUC: 0.6354\n",
            "\n",
            "Обучение модели: CatBoost\n",
            "Лучшие параметры: {'depth': 8, 'iterations': 200, 'l2_leaf_reg': 3, 'learning_rate': 0.1}\n",
            "Accuracy: 0.6701, Precision: 0.6429, Recall: 0.6136, F1: 0.6279\n",
            "ROC AUC: 0.7011\n",
            "\n",
            "Обучение модели: KNN\n",
            "Лучшие параметры: {'n_neighbors': 7, 'p': 1, 'weights': 'distance'}\n",
            "Accuracy: 0.6495, Precision: 0.5926, Recall: 0.7273, F1: 0.6531\n",
            "ROC AUC: 0.6972\n"
          ]
        }
      ],
      "source": [
        "X_train_final = X_train[selected_features_by_rand_for]\n",
        "X_test_final = X_test[selected_features_by_rand_for]\n",
        "scaler = StandardScaler()\n",
        "X_train_final = scaler.fit_transform(X_train_final)\n",
        "X_test_final = scaler.fit_transform(X_test_final)\n",
        "res3 = start_classification(X_train_final, X_test_final)"
      ]
    },
    {
      "cell_type": "markdown",
      "metadata": {
        "id": "WgxldzwBnlwv"
      },
      "source": [
        "Лучше всего себя показала модель KNN, обученная на признаках, отобранных через Случайный Лес. У нее меньше всего пропущенных потенциально токсичных препаратов, в отличие от других, а также хороший баланс между Precision и Recall. Эта модель также отличилась хорошей дискриминационной способностью.\n",
        "\n",
        "Ее гиперпараметры:\n",
        "-\tn_neighbors: 7\n",
        "-\tp: 1\n",
        "-\tweights: distance\n",
        "\n",
        "Ее метрики:\n",
        "-\tAccuracy: 0.6495\n",
        "-\tPrecision: 0.5926\n",
        "-\tRecall: 0.7273\n",
        "-\tF1: 0.6531\n",
        "-\tROC AUC: 0.6972\n"
      ]
    }
  ],
  "metadata": {
    "colab": {
      "provenance": []
    },
    "kernelspec": {
      "display_name": "Python 3",
      "name": "python3"
    },
    "language_info": {
      "name": "python"
    }
  },
  "nbformat": 4,
  "nbformat_minor": 0
}
