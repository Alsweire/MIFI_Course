{
  "cells": [
    {
      "cell_type": "code",
      "execution_count": null,
      "metadata": {
        "colab": {
          "base_uri": "https://localhost:8080/"
        },
        "id": "Bek3zuXfVnuK",
        "outputId": "5b4ed429-5df8-4cc3-e2cf-0923ab4af8c8"
      },
      "outputs": [
        {
          "name": "stdout",
          "output_type": "stream",
          "text": [
            "Collecting itables\n",
            "  Downloading itables-2.4.2-py3-none-any.whl.metadata (9.5 kB)\n",
            "Requirement already satisfied: ipython in /usr/local/lib/python3.11/dist-packages (from itables) (7.34.0)\n",
            "Requirement already satisfied: numpy in /usr/local/lib/python3.11/dist-packages (from itables) (2.0.2)\n",
            "Requirement already satisfied: pandas in /usr/local/lib/python3.11/dist-packages (from itables) (2.2.2)\n",
            "Requirement already satisfied: setuptools>=18.5 in /usr/local/lib/python3.11/dist-packages (from ipython->itables) (75.2.0)\n",
            "Collecting jedi>=0.16 (from ipython->itables)\n",
            "  Downloading jedi-0.19.2-py2.py3-none-any.whl.metadata (22 kB)\n",
            "Requirement already satisfied: decorator in /usr/local/lib/python3.11/dist-packages (from ipython->itables) (4.4.2)\n",
            "Requirement already satisfied: pickleshare in /usr/local/lib/python3.11/dist-packages (from ipython->itables) (0.7.5)\n",
            "Requirement already satisfied: traitlets>=4.2 in /usr/local/lib/python3.11/dist-packages (from ipython->itables) (5.7.1)\n",
            "Requirement already satisfied: prompt-toolkit!=3.0.0,!=3.0.1,<3.1.0,>=2.0.0 in /usr/local/lib/python3.11/dist-packages (from ipython->itables) (3.0.51)\n",
            "Requirement already satisfied: pygments in /usr/local/lib/python3.11/dist-packages (from ipython->itables) (2.19.1)\n",
            "Requirement already satisfied: backcall in /usr/local/lib/python3.11/dist-packages (from ipython->itables) (0.2.0)\n",
            "Requirement already satisfied: matplotlib-inline in /usr/local/lib/python3.11/dist-packages (from ipython->itables) (0.1.7)\n",
            "Requirement already satisfied: pexpect>4.3 in /usr/local/lib/python3.11/dist-packages (from ipython->itables) (4.9.0)\n",
            "Requirement already satisfied: python-dateutil>=2.8.2 in /usr/local/lib/python3.11/dist-packages (from pandas->itables) (2.9.0.post0)\n",
            "Requirement already satisfied: pytz>=2020.1 in /usr/local/lib/python3.11/dist-packages (from pandas->itables) (2025.2)\n",
            "Requirement already satisfied: tzdata>=2022.7 in /usr/local/lib/python3.11/dist-packages (from pandas->itables) (2025.2)\n",
            "Requirement already satisfied: parso<0.9.0,>=0.8.4 in /usr/local/lib/python3.11/dist-packages (from jedi>=0.16->ipython->itables) (0.8.4)\n",
            "Requirement already satisfied: ptyprocess>=0.5 in /usr/local/lib/python3.11/dist-packages (from pexpect>4.3->ipython->itables) (0.7.0)\n",
            "Requirement already satisfied: wcwidth in /usr/local/lib/python3.11/dist-packages (from prompt-toolkit!=3.0.0,!=3.0.1,<3.1.0,>=2.0.0->ipython->itables) (0.2.13)\n",
            "Requirement already satisfied: six>=1.5 in /usr/local/lib/python3.11/dist-packages (from python-dateutil>=2.8.2->pandas->itables) (1.17.0)\n",
            "Downloading itables-2.4.2-py3-none-any.whl (2.3 MB)\n",
            "\u001b[2K   \u001b[90m━━━━━━━━━━━━━━━━━━━━━━━━━━━━━━━━━━━━━━━━\u001b[0m \u001b[32m2.3/2.3 MB\u001b[0m \u001b[31m26.6 MB/s\u001b[0m eta \u001b[36m0:00:00\u001b[0m\n",
            "\u001b[?25hDownloading jedi-0.19.2-py2.py3-none-any.whl (1.6 MB)\n",
            "\u001b[2K   \u001b[90m━━━━━━━━━━━━━━━━━━━━━━━━━━━━━━━━━━━━━━━━\u001b[0m \u001b[32m1.6/1.6 MB\u001b[0m \u001b[31m63.9 MB/s\u001b[0m eta \u001b[36m0:00:00\u001b[0m\n",
            "\u001b[?25hInstalling collected packages: jedi, itables\n",
            "Successfully installed itables-2.4.2 jedi-0.19.2\n"
          ]
        }
      ],
      "source": [
        "!pip install itables"
      ]
    },
    {
      "cell_type": "code",
      "execution_count": null,
      "metadata": {
        "colab": {
          "base_uri": "https://localhost:8080/"
        },
        "id": "ULaC62ZUNRjG",
        "outputId": "ad0e533f-6d02-4a80-b812-d6f87f873625"
      },
      "outputs": [
        {
          "name": "stdout",
          "output_type": "stream",
          "text": [
            "Collecting catboost\n",
            "  Downloading catboost-1.2.8-cp311-cp311-manylinux2014_x86_64.whl.metadata (1.2 kB)\n",
            "Requirement already satisfied: graphviz in /usr/local/lib/python3.11/dist-packages (from catboost) (0.20.3)\n",
            "Requirement already satisfied: matplotlib in /usr/local/lib/python3.11/dist-packages (from catboost) (3.10.0)\n",
            "Requirement already satisfied: numpy<3.0,>=1.16.0 in /usr/local/lib/python3.11/dist-packages (from catboost) (2.0.2)\n",
            "Requirement already satisfied: pandas>=0.24 in /usr/local/lib/python3.11/dist-packages (from catboost) (2.2.2)\n",
            "Requirement already satisfied: scipy in /usr/local/lib/python3.11/dist-packages (from catboost) (1.15.3)\n",
            "Requirement already satisfied: plotly in /usr/local/lib/python3.11/dist-packages (from catboost) (5.24.1)\n",
            "Requirement already satisfied: six in /usr/local/lib/python3.11/dist-packages (from catboost) (1.17.0)\n",
            "Requirement already satisfied: python-dateutil>=2.8.2 in /usr/local/lib/python3.11/dist-packages (from pandas>=0.24->catboost) (2.9.0.post0)\n",
            "Requirement already satisfied: pytz>=2020.1 in /usr/local/lib/python3.11/dist-packages (from pandas>=0.24->catboost) (2025.2)\n",
            "Requirement already satisfied: tzdata>=2022.7 in /usr/local/lib/python3.11/dist-packages (from pandas>=0.24->catboost) (2025.2)\n",
            "Requirement already satisfied: contourpy>=1.0.1 in /usr/local/lib/python3.11/dist-packages (from matplotlib->catboost) (1.3.2)\n",
            "Requirement already satisfied: cycler>=0.10 in /usr/local/lib/python3.11/dist-packages (from matplotlib->catboost) (0.12.1)\n",
            "Requirement already satisfied: fonttools>=4.22.0 in /usr/local/lib/python3.11/dist-packages (from matplotlib->catboost) (4.58.1)\n",
            "Requirement already satisfied: kiwisolver>=1.3.1 in /usr/local/lib/python3.11/dist-packages (from matplotlib->catboost) (1.4.8)\n",
            "Requirement already satisfied: packaging>=20.0 in /usr/local/lib/python3.11/dist-packages (from matplotlib->catboost) (24.2)\n",
            "Requirement already satisfied: pillow>=8 in /usr/local/lib/python3.11/dist-packages (from matplotlib->catboost) (11.2.1)\n",
            "Requirement already satisfied: pyparsing>=2.3.1 in /usr/local/lib/python3.11/dist-packages (from matplotlib->catboost) (3.2.3)\n",
            "Requirement already satisfied: tenacity>=6.2.0 in /usr/local/lib/python3.11/dist-packages (from plotly->catboost) (9.1.2)\n",
            "Downloading catboost-1.2.8-cp311-cp311-manylinux2014_x86_64.whl (99.2 MB)\n",
            "\u001b[2K   \u001b[90m━━━━━━━━━━━━━━━━━━━━━━━━━━━━━━━━━━━━━━━━\u001b[0m \u001b[32m99.2/99.2 MB\u001b[0m \u001b[31m5.7 MB/s\u001b[0m eta \u001b[36m0:00:00\u001b[0m\n",
            "\u001b[?25hInstalling collected packages: catboost\n",
            "Successfully installed catboost-1.2.8\n"
          ]
        }
      ],
      "source": [
        "!pip install catboost"
      ]
    },
    {
      "cell_type": "code",
      "execution_count": null,
      "metadata": {
        "id": "giB4wEtAVpTN"
      },
      "outputs": [],
      "source": [
        "import pandas as pd\n",
        "import numpy as np\n",
        "\n",
        "from sklearn.ensemble import RandomForestRegressor, GradientBoostingRegressor\n",
        "from sklearn.feature_selection import SequentialFeatureSelector\n",
        "from sklearn.linear_model import LassoCV, LinearRegression\n",
        "from sklearn.metrics import mean_absolute_error, mean_squared_error, r2_score\n",
        "from sklearn.model_selection import train_test_split, GridSearchCV\n",
        "from sklearn.preprocessing import StandardScaler\n",
        "\n",
        "from xgboost import XGBRegressor\n",
        "from catboost import CatBoostRegressor\n",
        "\n",
        "import matplotlib.pyplot as plt\n",
        "\n",
        "import itables\n",
        "from itables import show"
      ]
    },
    {
      "cell_type": "code",
      "execution_count": null,
      "metadata": {
        "colab": {
          "base_uri": "https://localhost:8080/",
          "height": 193
        },
        "id": "S2rrJP48Vpon",
        "outputId": "b8bfee4f-023d-4a59-853f-ef8b63898ca0"
      },
      "outputs": [
        {
          "data": {
            "application/vnd.google.colaboratory.intrinsic+json": {
              "type": "dataframe",
              "variable_name": "data"
            },
            "text/html": [
              "\n",
              "  <div id=\"df-f61586ed-f377-436a-8247-bb22167ee4c9\" class=\"colab-df-container\">\n",
              "    <div>\n",
              "<style scoped>\n",
              "    .dataframe tbody tr th:only-of-type {\n",
              "        vertical-align: middle;\n",
              "    }\n",
              "\n",
              "    .dataframe tbody tr th {\n",
              "        vertical-align: top;\n",
              "    }\n",
              "\n",
              "    .dataframe thead th {\n",
              "        text-align: right;\n",
              "    }\n",
              "</style>\n",
              "<table border=\"1\" class=\"dataframe\">\n",
              "  <thead>\n",
              "    <tr style=\"text-align: right;\">\n",
              "      <th></th>\n",
              "      <th>MaxAbsEStateIndex</th>\n",
              "      <th>MinAbsEStateIndex</th>\n",
              "      <th>MinEStateIndex</th>\n",
              "      <th>qed</th>\n",
              "      <th>SPS</th>\n",
              "      <th>MolWt</th>\n",
              "      <th>MaxPartialCharge</th>\n",
              "      <th>MinPartialCharge</th>\n",
              "      <th>FpDensityMorgan1</th>\n",
              "      <th>BCUT2D_MWHI</th>\n",
              "      <th>...</th>\n",
              "      <th>fr_piperdine</th>\n",
              "      <th>fr_piperzine</th>\n",
              "      <th>fr_priamide</th>\n",
              "      <th>fr_pyridine</th>\n",
              "      <th>fr_quatN</th>\n",
              "      <th>fr_sulfide</th>\n",
              "      <th>fr_thiazole</th>\n",
              "      <th>fr_thiophene</th>\n",
              "      <th>fr_unbrch_alkane</th>\n",
              "      <th>CC50</th>\n",
              "    </tr>\n",
              "  </thead>\n",
              "  <tbody>\n",
              "    <tr>\n",
              "      <th>0</th>\n",
              "      <td>5.094096</td>\n",
              "      <td>0.387225</td>\n",
              "      <td>0.387225</td>\n",
              "      <td>0.417362</td>\n",
              "      <td>42.928571</td>\n",
              "      <td>384.652</td>\n",
              "      <td>0.038844</td>\n",
              "      <td>-0.293526</td>\n",
              "      <td>0.642857</td>\n",
              "      <td>14.822266</td>\n",
              "      <td>...</td>\n",
              "      <td>0</td>\n",
              "      <td>0</td>\n",
              "      <td>0</td>\n",
              "      <td>0</td>\n",
              "      <td>0</td>\n",
              "      <td>0</td>\n",
              "      <td>0</td>\n",
              "      <td>0</td>\n",
              "      <td>3</td>\n",
              "      <td>175.482382</td>\n",
              "    </tr>\n",
              "    <tr>\n",
              "      <th>1</th>\n",
              "      <td>3.961417</td>\n",
              "      <td>0.533868</td>\n",
              "      <td>0.533868</td>\n",
              "      <td>0.462473</td>\n",
              "      <td>45.214286</td>\n",
              "      <td>388.684</td>\n",
              "      <td>0.012887</td>\n",
              "      <td>-0.313407</td>\n",
              "      <td>0.607143</td>\n",
              "      <td>14.975110</td>\n",
              "      <td>...</td>\n",
              "      <td>0</td>\n",
              "      <td>0</td>\n",
              "      <td>0</td>\n",
              "      <td>0</td>\n",
              "      <td>0</td>\n",
              "      <td>0</td>\n",
              "      <td>0</td>\n",
              "      <td>0</td>\n",
              "      <td>3</td>\n",
              "      <td>5.402819</td>\n",
              "    </tr>\n",
              "    <tr>\n",
              "      <th>2</th>\n",
              "      <td>2.627117</td>\n",
              "      <td>0.543231</td>\n",
              "      <td>0.543231</td>\n",
              "      <td>0.260923</td>\n",
              "      <td>42.187500</td>\n",
              "      <td>446.808</td>\n",
              "      <td>0.094802</td>\n",
              "      <td>-0.325573</td>\n",
              "      <td>0.562500</td>\n",
              "      <td>15.353938</td>\n",
              "      <td>...</td>\n",
              "      <td>0</td>\n",
              "      <td>0</td>\n",
              "      <td>0</td>\n",
              "      <td>0</td>\n",
              "      <td>2</td>\n",
              "      <td>0</td>\n",
              "      <td>0</td>\n",
              "      <td>0</td>\n",
              "      <td>3</td>\n",
              "      <td>161.142320</td>\n",
              "    </tr>\n",
              "  </tbody>\n",
              "</table>\n",
              "<p>3 rows × 95 columns</p>\n",
              "</div>\n",
              "    <div class=\"colab-df-buttons\">\n",
              "\n",
              "  <div class=\"colab-df-container\">\n",
              "    <button class=\"colab-df-convert\" onclick=\"convertToInteractive('df-f61586ed-f377-436a-8247-bb22167ee4c9')\"\n",
              "            title=\"Convert this dataframe to an interactive table.\"\n",
              "            style=\"display:none;\">\n",
              "\n",
              "  <svg xmlns=\"http://www.w3.org/2000/svg\" height=\"24px\" viewBox=\"0 -960 960 960\">\n",
              "    <path d=\"M120-120v-720h720v720H120Zm60-500h600v-160H180v160Zm220 220h160v-160H400v160Zm0 220h160v-160H400v160ZM180-400h160v-160H180v160Zm440 0h160v-160H620v160ZM180-180h160v-160H180v160Zm440 0h160v-160H620v160Z\"/>\n",
              "  </svg>\n",
              "    </button>\n",
              "\n",
              "  <style>\n",
              "    .colab-df-container {\n",
              "      display:flex;\n",
              "      gap: 12px;\n",
              "    }\n",
              "\n",
              "    .colab-df-convert {\n",
              "      background-color: #E8F0FE;\n",
              "      border: none;\n",
              "      border-radius: 50%;\n",
              "      cursor: pointer;\n",
              "      display: none;\n",
              "      fill: #1967D2;\n",
              "      height: 32px;\n",
              "      padding: 0 0 0 0;\n",
              "      width: 32px;\n",
              "    }\n",
              "\n",
              "    .colab-df-convert:hover {\n",
              "      background-color: #E2EBFA;\n",
              "      box-shadow: 0px 1px 2px rgba(60, 64, 67, 0.3), 0px 1px 3px 1px rgba(60, 64, 67, 0.15);\n",
              "      fill: #174EA6;\n",
              "    }\n",
              "\n",
              "    .colab-df-buttons div {\n",
              "      margin-bottom: 4px;\n",
              "    }\n",
              "\n",
              "    [theme=dark] .colab-df-convert {\n",
              "      background-color: #3B4455;\n",
              "      fill: #D2E3FC;\n",
              "    }\n",
              "\n",
              "    [theme=dark] .colab-df-convert:hover {\n",
              "      background-color: #434B5C;\n",
              "      box-shadow: 0px 1px 3px 1px rgba(0, 0, 0, 0.15);\n",
              "      filter: drop-shadow(0px 1px 2px rgba(0, 0, 0, 0.3));\n",
              "      fill: #FFFFFF;\n",
              "    }\n",
              "  </style>\n",
              "\n",
              "    <script>\n",
              "      const buttonEl =\n",
              "        document.querySelector('#df-f61586ed-f377-436a-8247-bb22167ee4c9 button.colab-df-convert');\n",
              "      buttonEl.style.display =\n",
              "        google.colab.kernel.accessAllowed ? 'block' : 'none';\n",
              "\n",
              "      async function convertToInteractive(key) {\n",
              "        const element = document.querySelector('#df-f61586ed-f377-436a-8247-bb22167ee4c9');\n",
              "        const dataTable =\n",
              "          await google.colab.kernel.invokeFunction('convertToInteractive',\n",
              "                                                    [key], {});\n",
              "        if (!dataTable) return;\n",
              "\n",
              "        const docLinkHtml = 'Like what you see? Visit the ' +\n",
              "          '<a target=\"_blank\" href=https://colab.research.google.com/notebooks/data_table.ipynb>data table notebook</a>'\n",
              "          + ' to learn more about interactive tables.';\n",
              "        element.innerHTML = '';\n",
              "        dataTable['output_type'] = 'display_data';\n",
              "        await google.colab.output.renderOutput(dataTable, element);\n",
              "        const docLink = document.createElement('div');\n",
              "        docLink.innerHTML = docLinkHtml;\n",
              "        element.appendChild(docLink);\n",
              "      }\n",
              "    </script>\n",
              "  </div>\n",
              "\n",
              "\n",
              "    <div id=\"df-4db3e748-0c6b-4d6a-8ed2-31c79f970d58\">\n",
              "      <button class=\"colab-df-quickchart\" onclick=\"quickchart('df-4db3e748-0c6b-4d6a-8ed2-31c79f970d58')\"\n",
              "                title=\"Suggest charts\"\n",
              "                style=\"display:none;\">\n",
              "\n",
              "<svg xmlns=\"http://www.w3.org/2000/svg\" height=\"24px\"viewBox=\"0 0 24 24\"\n",
              "     width=\"24px\">\n",
              "    <g>\n",
              "        <path d=\"M19 3H5c-1.1 0-2 .9-2 2v14c0 1.1.9 2 2 2h14c1.1 0 2-.9 2-2V5c0-1.1-.9-2-2-2zM9 17H7v-7h2v7zm4 0h-2V7h2v10zm4 0h-2v-4h2v4z\"/>\n",
              "    </g>\n",
              "</svg>\n",
              "      </button>\n",
              "\n",
              "<style>\n",
              "  .colab-df-quickchart {\n",
              "      --bg-color: #E8F0FE;\n",
              "      --fill-color: #1967D2;\n",
              "      --hover-bg-color: #E2EBFA;\n",
              "      --hover-fill-color: #174EA6;\n",
              "      --disabled-fill-color: #AAA;\n",
              "      --disabled-bg-color: #DDD;\n",
              "  }\n",
              "\n",
              "  [theme=dark] .colab-df-quickchart {\n",
              "      --bg-color: #3B4455;\n",
              "      --fill-color: #D2E3FC;\n",
              "      --hover-bg-color: #434B5C;\n",
              "      --hover-fill-color: #FFFFFF;\n",
              "      --disabled-bg-color: #3B4455;\n",
              "      --disabled-fill-color: #666;\n",
              "  }\n",
              "\n",
              "  .colab-df-quickchart {\n",
              "    background-color: var(--bg-color);\n",
              "    border: none;\n",
              "    border-radius: 50%;\n",
              "    cursor: pointer;\n",
              "    display: none;\n",
              "    fill: var(--fill-color);\n",
              "    height: 32px;\n",
              "    padding: 0;\n",
              "    width: 32px;\n",
              "  }\n",
              "\n",
              "  .colab-df-quickchart:hover {\n",
              "    background-color: var(--hover-bg-color);\n",
              "    box-shadow: 0 1px 2px rgba(60, 64, 67, 0.3), 0 1px 3px 1px rgba(60, 64, 67, 0.15);\n",
              "    fill: var(--button-hover-fill-color);\n",
              "  }\n",
              "\n",
              "  .colab-df-quickchart-complete:disabled,\n",
              "  .colab-df-quickchart-complete:disabled:hover {\n",
              "    background-color: var(--disabled-bg-color);\n",
              "    fill: var(--disabled-fill-color);\n",
              "    box-shadow: none;\n",
              "  }\n",
              "\n",
              "  .colab-df-spinner {\n",
              "    border: 2px solid var(--fill-color);\n",
              "    border-color: transparent;\n",
              "    border-bottom-color: var(--fill-color);\n",
              "    animation:\n",
              "      spin 1s steps(1) infinite;\n",
              "  }\n",
              "\n",
              "  @keyframes spin {\n",
              "    0% {\n",
              "      border-color: transparent;\n",
              "      border-bottom-color: var(--fill-color);\n",
              "      border-left-color: var(--fill-color);\n",
              "    }\n",
              "    20% {\n",
              "      border-color: transparent;\n",
              "      border-left-color: var(--fill-color);\n",
              "      border-top-color: var(--fill-color);\n",
              "    }\n",
              "    30% {\n",
              "      border-color: transparent;\n",
              "      border-left-color: var(--fill-color);\n",
              "      border-top-color: var(--fill-color);\n",
              "      border-right-color: var(--fill-color);\n",
              "    }\n",
              "    40% {\n",
              "      border-color: transparent;\n",
              "      border-right-color: var(--fill-color);\n",
              "      border-top-color: var(--fill-color);\n",
              "    }\n",
              "    60% {\n",
              "      border-color: transparent;\n",
              "      border-right-color: var(--fill-color);\n",
              "    }\n",
              "    80% {\n",
              "      border-color: transparent;\n",
              "      border-right-color: var(--fill-color);\n",
              "      border-bottom-color: var(--fill-color);\n",
              "    }\n",
              "    90% {\n",
              "      border-color: transparent;\n",
              "      border-bottom-color: var(--fill-color);\n",
              "    }\n",
              "  }\n",
              "</style>\n",
              "\n",
              "      <script>\n",
              "        async function quickchart(key) {\n",
              "          const quickchartButtonEl =\n",
              "            document.querySelector('#' + key + ' button');\n",
              "          quickchartButtonEl.disabled = true;  // To prevent multiple clicks.\n",
              "          quickchartButtonEl.classList.add('colab-df-spinner');\n",
              "          try {\n",
              "            const charts = await google.colab.kernel.invokeFunction(\n",
              "                'suggestCharts', [key], {});\n",
              "          } catch (error) {\n",
              "            console.error('Error during call to suggestCharts:', error);\n",
              "          }\n",
              "          quickchartButtonEl.classList.remove('colab-df-spinner');\n",
              "          quickchartButtonEl.classList.add('colab-df-quickchart-complete');\n",
              "        }\n",
              "        (() => {\n",
              "          let quickchartButtonEl =\n",
              "            document.querySelector('#df-4db3e748-0c6b-4d6a-8ed2-31c79f970d58 button');\n",
              "          quickchartButtonEl.style.display =\n",
              "            google.colab.kernel.accessAllowed ? 'block' : 'none';\n",
              "        })();\n",
              "      </script>\n",
              "    </div>\n",
              "    </div>\n",
              "  </div>\n"
            ],
            "text/plain": [
              "   MaxAbsEStateIndex  MinAbsEStateIndex  MinEStateIndex       qed        SPS  \\\n",
              "0           5.094096           0.387225        0.387225  0.417362  42.928571   \n",
              "1           3.961417           0.533868        0.533868  0.462473  45.214286   \n",
              "2           2.627117           0.543231        0.543231  0.260923  42.187500   \n",
              "\n",
              "     MolWt  MaxPartialCharge  MinPartialCharge  FpDensityMorgan1  BCUT2D_MWHI  \\\n",
              "0  384.652          0.038844         -0.293526          0.642857    14.822266   \n",
              "1  388.684          0.012887         -0.313407          0.607143    14.975110   \n",
              "2  446.808          0.094802         -0.325573          0.562500    15.353938   \n",
              "\n",
              "   ...  fr_piperdine  fr_piperzine  fr_priamide  fr_pyridine  fr_quatN  \\\n",
              "0  ...             0             0            0            0         0   \n",
              "1  ...             0             0            0            0         0   \n",
              "2  ...             0             0            0            0         2   \n",
              "\n",
              "   fr_sulfide  fr_thiazole  fr_thiophene  fr_unbrch_alkane        CC50  \n",
              "0           0            0             0                 3  175.482382  \n",
              "1           0            0             0                 3    5.402819  \n",
              "2           0            0             0                 3  161.142320  \n",
              "\n",
              "[3 rows x 95 columns]"
            ]
          },
          "execution_count": 5,
          "metadata": {},
          "output_type": "execute_result"
        }
      ],
      "source": [
        "# Загружаем данные\n",
        "path = 'data_eda.csv'\n",
        "data = pd.read_csv(path).drop(columns=['Unnamed: 0', 'IC50, mM','SI'], axis=1).rename(columns={'CC50, mM': 'CC50'}).fillna(0)\n",
        "data.head(3)"
      ]
    },
    {
      "cell_type": "code",
      "execution_count": null,
      "metadata": {
        "colab": {
          "base_uri": "https://localhost:8080/",
          "height": 501
        },
        "id": "hWBPCIOqV3Sw",
        "outputId": "a39c9803-432c-4928-ad07-6c7c79264b2a"
      },
      "outputs": [
        {
          "data": {
            "text/html": [
              "<!--| quarto-html-table-processing: none -->\n",
              "<table id=\"itables_cfecf1b2_5fb0_4c1d_b596_2fd77c951eec\"><tbody><tr>\n",
              "    <td style=\"vertical-align:middle; text-align:left\">\n",
              "    <a href=https://mwouts.github.io/itables/><svg class=\"main-svg\" xmlns=\"http://www.w3.org/2000/svg\" xmlns:xlink=\"http://www.w3.org/1999/xlink\"\n",
              "width=\"64\" viewBox=\"0 0 500 400\" style=\"font-family: 'Droid Sans', sans-serif;\">\n",
              "    <g style=\"fill:#d9d7fc\">\n",
              "        <path d=\"M100,400H500V357H100Z\" />\n",
              "        <path d=\"M100,300H400V257H100Z\" />\n",
              "        <path d=\"M0,200H400V157H0Z\" />\n",
              "        <path d=\"M100,100H500V57H100Z\" />\n",
              "        <path d=\"M100,350H500V307H100Z\" />\n",
              "        <path d=\"M100,250H400V207H100Z\" />\n",
              "        <path d=\"M0,150H400V107H0Z\" />\n",
              "        <path d=\"M100,50H500V7H100Z\" />\n",
              "    </g>\n",
              "    <g style=\"fill:#1a1366;stroke:#1a1366;\">\n",
              "   <rect x=\"100\" y=\"7\" width=\"400\" height=\"43\">\n",
              "    <animate\n",
              "      attributeName=\"width\"\n",
              "      values=\"0;400;0\"\n",
              "      dur=\"5s\"\n",
              "      repeatCount=\"indefinite\" />\n",
              "      <animate\n",
              "      attributeName=\"x\"\n",
              "      values=\"100;100;500\"\n",
              "      dur=\"5s\"\n",
              "      repeatCount=\"indefinite\" />\n",
              "  </rect>\n",
              "        <rect x=\"0\" y=\"107\" width=\"400\" height=\"43\">\n",
              "    <animate\n",
              "      attributeName=\"width\"\n",
              "      values=\"0;400;0\"\n",
              "      dur=\"3.5s\"\n",
              "      repeatCount=\"indefinite\" />\n",
              "    <animate\n",
              "      attributeName=\"x\"\n",
              "      values=\"0;0;400\"\n",
              "      dur=\"3.5s\"\n",
              "      repeatCount=\"indefinite\" />\n",
              "  </rect>\n",
              "        <rect x=\"100\" y=\"207\" width=\"300\" height=\"43\">\n",
              "    <animate\n",
              "      attributeName=\"width\"\n",
              "      values=\"0;300;0\"\n",
              "      dur=\"3s\"\n",
              "      repeatCount=\"indefinite\" />\n",
              "    <animate\n",
              "      attributeName=\"x\"\n",
              "      values=\"100;100;400\"\n",
              "      dur=\"3s\"\n",
              "      repeatCount=\"indefinite\" />\n",
              "  </rect>\n",
              "        <rect x=\"100\" y=\"307\" width=\"400\" height=\"43\">\n",
              "    <animate\n",
              "      attributeName=\"width\"\n",
              "      values=\"0;400;0\"\n",
              "      dur=\"4s\"\n",
              "      repeatCount=\"indefinite\" />\n",
              "      <animate\n",
              "      attributeName=\"x\"\n",
              "      values=\"100;100;500\"\n",
              "      dur=\"4s\"\n",
              "      repeatCount=\"indefinite\" />\n",
              "  </rect>\n",
              "        <g style=\"fill:transparent;stroke-width:8; stroke-linejoin:round\" rx=\"5\">\n",
              "            <g transform=\"translate(45 50) rotate(-45)\">\n",
              "                <circle r=\"33\" cx=\"0\" cy=\"0\" />\n",
              "                <rect x=\"-8\" y=\"32\" width=\"16\" height=\"30\" />\n",
              "            </g>\n",
              "\n",
              "            <g transform=\"translate(450 152)\">\n",
              "                <polyline points=\"-15,-20 -35,-20 -35,40 25,40 25,20\" />\n",
              "                <rect x=\"-15\" y=\"-40\" width=\"60\" height=\"60\" />\n",
              "            </g>\n",
              "\n",
              "            <g transform=\"translate(50 352)\">\n",
              "                <polygon points=\"-35,-5 0,-40 35,-5\" />\n",
              "                <polygon points=\"-35,10 0,45 35,10\" />\n",
              "            </g>\n",
              "\n",
              "            <g transform=\"translate(75 250)\">\n",
              "                <polyline points=\"-30,30 -60,0 -30,-30\" />\n",
              "                <polyline points=\"0,30 -30,0 0,-30\" />\n",
              "            </g>\n",
              "\n",
              "            <g transform=\"translate(425 250) rotate(180)\">\n",
              "                <polyline points=\"-30,30 -60,0 -30,-30\" />\n",
              "                <polyline points=\"0,30 -30,0 0,-30\" />\n",
              "            </g>\n",
              "        </g>\n",
              "    </g>\n",
              "</svg>\n",
              "</a>\n",
              "    Loading ITables v2.4.0 from the internet...\n",
              "    (need <a href=https://mwouts.github.io/itables/troubleshooting.html>help</a>?)</td>\n",
              "    </tr></tbody></table>\n",
              "<link href=\"https://www.unpkg.com/dt_for_itables@2.3.2/dt_bundle.css\" rel=\"stylesheet\">\n",
              "<script type=\"module\">\n",
              "    import { ITable, jQuery as $ } from 'https://www.unpkg.com/dt_for_itables@2.3.2/dt_bundle.js';\n",
              "\n",
              "    document.querySelectorAll(\"#itables_cfecf1b2_5fb0_4c1d_b596_2fd77c951eec:not(.dataTable)\").forEach(table => {\n",
              "        if (!(table instanceof HTMLTableElement))\n",
              "            return;\n",
              "\n",
              "        let dt_args = {\"layout\": {\"topStart\": \"pageLength\", \"topEnd\": \"search\", \"bottomStart\": \"info\", \"bottomEnd\": \"paging\"}, \"style\": {\"table-layout\": \"auto\", \"width\": \"auto\", \"margin\": \"auto\", \"caption-side\": \"bottom\"}, \"order\": [], \"classes\": [\"display\", \"nowrap\"], \"text_in_header_can_be_selected\": true, \"table_html\": \"<table><thead>\\n    <tr style=\\\"text-align: right;\\\">\\n      <th></th>\\n      <th>CC50</th>\\n    </tr>\\n  </thead></table>\", \"data_json\": \"[[\\\"IC50, mM\\\", 0.323669], [\\\"CC50\\\", 1.0], [\\\"MaxAbsEStateIndex\\\", -0.141578], [\\\"MaxEStateIndex\\\", -0.141578], [\\\"MinAbsEStateIndex\\\", 0.093531], [\\\"qed\\\", 0.11557], [\\\"MaxPartialCharge\\\", -0.120011], [\\\"MinAbsPartialCharge\\\", -0.124964], [\\\"BCUT2D_MWLOW\\\", 0.064016], [\\\"BCUT2D_CHGHI\\\", 0.0947], [\\\"BCUT2D_LOGPHI\\\", 0.07291], [\\\"BCUT2D_MRLOW\\\", -0.019805], [\\\"AvgIpc\\\", -0.066605], [\\\"BalabanJ\\\", 0.107528], [\\\"Ipc\\\", -0.0268], [\\\"PEOE_VSA10\\\", -0.080087], [\\\"PEOE_VSA11\\\", -0.102951], [\\\"PEOE_VSA12\\\", -0.10725], [\\\"PEOE_VSA13\\\", -0.00409], [\\\"PEOE_VSA14\\\", -0.060634], [\\\"PEOE_VSA2\\\", -0.090863], [\\\"PEOE_VSA3\\\", -0.076361], [\\\"PEOE_VSA4\\\", -0.032858], [\\\"PEOE_VSA5\\\", -0.057948], [\\\"PEOE_VSA6\\\", -0.14688], [\\\"PEOE_VSA7\\\", -0.180862], [\\\"PEOE_VSA8\\\", -0.047738], [\\\"PEOE_VSA9\\\", -0.021359], [\\\"SMR_VSA10\\\", -0.166531], [\\\"SMR_VSA2\\\", -0.041923], [\\\"SMR_VSA3\\\", -0.027541], [\\\"SMR_VSA5\\\", -0.042463], [\\\"SMR_VSA6\\\", 0.008838], [\\\"SMR_VSA9\\\", -0.118514], [\\\"SlogP_VSA1\\\", -0.196297], [\\\"SlogP_VSA10\\\", -0.080451], [\\\"SlogP_VSA11\\\", -0.132981], [\\\"SlogP_VSA2\\\", -0.02327], [\\\"SlogP_VSA3\\\", -0.208541], [\\\"SlogP_VSA5\\\", -0.070028], [\\\"SlogP_VSA7\\\", -0.075488], [\\\"SlogP_VSA8\\\", -0.084043], [\\\"EState_VSA11\\\", 0.006589], [\\\"EState_VSA2\\\", -0.183951], [\\\"EState_VSA3\\\", -0.05509], [\\\"EState_VSA4\\\", -0.132507], [\\\"EState_VSA5\\\", -0.027847], [\\\"EState_VSA6\\\", -0.133774], [\\\"EState_VSA7\\\", -0.064741], [\\\"EState_VSA8\\\", -0.027091], [\\\"EState_VSA9\\\", -0.053364], [\\\"VSA_EState1\\\", -0.073388], [\\\"VSA_EState4\\\", -0.122626], [\\\"VSA_EState5\\\", 0.087697], [\\\"VSA_EState7\\\", -0.014808], [\\\"VSA_EState8\\\", 0.033322], [\\\"VSA_EState9\\\", 0.058406], [\\\"NumAliphaticHeterocycles\\\", -0.020828], [\\\"NumAliphaticRings\\\", -0.061415], [\\\"NumAromaticHeterocycles\\\", -0.01629], [\\\"NumSaturatedHeterocycles\\\", 0.066722], [\\\"RingCount\\\", -0.205923], [\\\"MolLogP\\\", -0.160662], [\\\"fr_Al_COO\\\", -0.082346], [\\\"fr_ArN\\\", -0.063295], [\\\"fr_Ar_COO\\\", \\\"___NaN___\\\"], [\\\"fr_Ar_NH\\\", 0.057665], [\\\"fr_Ar_OH\\\", -0.132602], [\\\"fr_COO\\\", -0.082346], [\\\"fr_COO2\\\", -0.082346], [\\\"fr_C_S\\\", 0.078568], [\\\"fr_HOCCN\\\", -0.022035], [\\\"fr_Imine\\\", 0.190421], [\\\"fr_NH1\\\", -0.125122], [\\\"fr_NH2\\\", -0.126004], [\\\"fr_Ndealkylation1\\\", 0.118477], [\\\"fr_Ndealkylation2\\\", 0.045318], [\\\"fr_Nhpyrrole\\\", 0.057665], [\\\"fr_aldehyde\\\", 0.005595], [\\\"fr_alkyl_carbamate\\\", -0.091696], [\\\"fr_allylic_oxid\\\", -0.175829], [\\\"fr_amide\\\", -0.020746], [\\\"fr_amidine\\\", 0.02632], [\\\"fr_aniline\\\", -0.093589], [\\\"fr_aryl_methyl\\\", -0.036752], [\\\"fr_azo\\\", 0.011787], [\\\"fr_bicyclic\\\", 0.011069], [\\\"fr_epoxide\\\", -0.028461], [\\\"fr_ester\\\", -0.129966], [\\\"fr_ether\\\", -0.096512], [\\\"fr_furan\\\", 0.066358], [\\\"fr_guanido\\\", -0.046514], [\\\"fr_halogen\\\", -0.051933], [\\\"fr_hdrzine\\\", 0.011653], [\\\"fr_hdrzone\\\", -0.072866], [\\\"fr_imidazole\\\", 0.019457], [\\\"fr_imide\\\", -0.015071], [\\\"fr_ketone\\\", -0.13845], [\\\"fr_ketone_Topliss\\\", -0.118654], [\\\"fr_lactone\\\", -0.038405], [\\\"fr_methoxy\\\", -0.042231], [\\\"fr_morpholine\\\", -0.01855], [\\\"fr_nitrile\\\", -0.038909], [\\\"fr_nitro\\\", 0.013229], [\\\"fr_nitro_arom\\\", 0.001752], [\\\"fr_nitro_arom_nonortho\\\", 0.001965], [\\\"fr_oxazole\\\", -0.012815], [\\\"fr_oxime\\\", 0.013562], [\\\"fr_para_hydroxylation\\\", -0.016588], [\\\"fr_phenol\\\", -0.132298], [\\\"fr_phenol_noOrthoHbond\\\", -0.132298], [\\\"fr_piperdine\\\", -0.025574], [\\\"fr_piperzine\\\", -0.050582], [\\\"fr_priamide\\\", 0.087037], [\\\"fr_pyridine\\\", -0.017313], [\\\"fr_quatN\\\", 0.102464], [\\\"fr_sulfide\\\", -0.10247], [\\\"fr_sulfonamd\\\", -0.037408], [\\\"fr_sulfone\\\", 0.001459], [\\\"fr_term_acetylene\\\", 0.024954], [\\\"fr_tetrazole\\\", 0.023157], [\\\"fr_thiazole\\\", -0.065706], [\\\"fr_thiophene\\\", -0.030453], [\\\"fr_unbrch_alkane\\\", 0.002955], [\\\"fr_urea\\\", 0.10453], [\\\"MinEStateIndexfr_alkyl_halide\\\", 0.152121], [\\\"SPSFractionCSP3\\\", \\\"___NaN___\\\"], [\\\"MolWtHeavyAtomMolWt\\\", 0.143451], [\\\"MolWtExactMolWt\\\", 0.159733], [\\\"MolWtNumValenceElectrons\\\", 0.262247], [\\\"MolWtBertzCT\\\", 0.215083], [\\\"MolWtChi0\\\", 0.260538], [\\\"MolWtChi0n\\\", 0.261094], [\\\"MolWtChi0v\\\", 0.261016], [\\\"MolWtChi1\\\", 0.260637], [\\\"MolWtChi1n\\\", 0.260746], [\\\"MolWtChi1v\\\", 0.260583], [\\\"MolWtKappa1\\\", 0.260436], [\\\"MolWtKappa2\\\", 0.260085], [\\\"MolWtLabuteASA\\\", 0.260436], [\\\"MolWtHeavyAtomCount\\\", 0.260656], [\\\"MolWtMolMR\\\", 0.258987], [\\\"HeavyAtomMolWtExactMolWt\\\", 0.144231], [\\\"HeavyAtomMolWtNumValenceElectrons\\\", 0.260269], [\\\"HeavyAtomMolWtBertzCT\\\", 0.218327], [\\\"HeavyAtomMolWtChi0\\\", 0.261622], [\\\"HeavyAtomMolWtChi0n\\\", 0.26197], [\\\"HeavyAtomMolWtChi0v\\\", 0.261931], [\\\"HeavyAtomMolWtChi1\\\", 0.26179], [\\\"HeavyAtomMolWtChi1n\\\", 0.261697], [\\\"HeavyAtomMolWtChi1v\\\", 0.26156], [\\\"HeavyAtomMolWtKappa1\\\", 0.261347], [\\\"HeavyAtomMolWtKappa2\\\", 0.261142], [\\\"HeavyAtomMolWtLabuteASA\\\", 0.258468], [\\\"HeavyAtomMolWtHeavyAtomCount\\\", 0.261761], [\\\"HeavyAtomMolWtMolMR\\\", 0.257745], [\\\"ExactMolWtNumValenceElectrons\\\", 0.262225], [\\\"ExactMolWtBertzCT\\\", 0.215137], [\\\"ExactMolWtChi0\\\", 0.26049], [\\\"ExactMolWtChi0n\\\", 0.261047], [\\\"ExactMolWtChi0v\\\", 0.260968], [\\\"ExactMolWtChi1\\\", 0.260589], [\\\"ExactMolWtChi1n\\\", 0.260698], [\\\"ExactMolWtChi1v\\\", 0.260534], [\\\"ExactMolWtKappa1\\\", 0.260389], [\\\"ExactMolWtKappa2\\\", 0.260037], [\\\"ExactMolWtLabuteASA\\\", 0.260379], [\\\"ExactMolWtHeavyAtomCount\\\", 0.260608], [\\\"ExactMolWtMolMR\\\", 0.258925], [\\\"NumValenceElectronsBertzCT\\\", 0.230374], [\\\"NumValenceElectronsChi0\\\", 0.248205], [\\\"NumValenceElectronsChi0n\\\", 0.25122], [\\\"NumValenceElectronsChi0v\\\", 0.250295], [\\\"NumValenceElectronsChi1\\\", 0.248624], [\\\"NumValenceElectronsChi1n\\\", 0.250305], [\\\"NumValenceElectronsChi1v\\\", 0.249346], [\\\"NumValenceElectronsChi2n\\\", 0.250601], [\\\"NumValenceElectronsChi2v\\\", 0.249394], [\\\"NumValenceElectronsKappa1\\\", 0.248706], [\\\"NumValenceElectronsKappa2\\\", 0.247914], [\\\"NumValenceElectronsLabuteASA\\\", 0.196277], [\\\"NumValenceElectronsHeavyAtomCount\\\", 0.24732], [\\\"NumValenceElectronsMolMR\\\", 0.194986], [\\\"MinPartialChargeMaxAbsPartialCharge\\\", 0.160403], [\\\"FpDensityMorgan1FpDensityMorgan2\\\", 0.261504], [\\\"FpDensityMorgan1FpDensityMorgan3\\\", 0.258444], [\\\"FpDensityMorgan2FpDensityMorgan3\\\", 0.337041], [\\\"BCUT2D_MWHIBCUT2D_MRHI\\\", 0.114473], [\\\"BCUT2D_CHGLOBCUT2D_LOGPLOW\\\", \\\"___NaN___\\\"], [\\\"BertzCTChi0\\\", 0.235896], [\\\"BertzCTChi1\\\", 0.236209], [\\\"BertzCTHallKierAlpha\\\", 0.236591], [\\\"BertzCTLabuteASA\\\", 0.229838], [\\\"BertzCTHeavyAtomCount\\\", 0.235715], [\\\"BertzCTNumAromaticCarbocycles\\\", 0.236522], [\\\"BertzCTNumAromaticRings\\\", 0.236714], [\\\"BertzCTMolMR\\\", 0.231971], [\\\"BertzCTfr_benzene\\\", 0.236522], [\\\"Chi0Chi0n\\\", 0.219059], [\\\"Chi0Chi0v\\\", 0.195335], [\\\"Chi0Chi1\\\", 0.245355], [\\\"Chi0Chi1n\\\", 0.252624], [\\\"Chi0Chi1v\\\", 0.240423], [\\\"Chi0Kappa1\\\", -0.122985], [\\\"Chi0Kappa2\\\", 0.229479], [\\\"Chi0LabuteASA\\\", 0.255076], [\\\"Chi0HeavyAtomCount\\\", 0.24656], [\\\"Chi0MolMR\\\", 0.245491], [\\\"Chi0nChi1\\\", 0.177227], [\\\"Chi0nChi1n\\\", 0.225122], [\\\"Chi0nChi1v\\\", 0.195154], [\\\"Chi0nChi2n\\\", 0.23186], [\\\"Chi0nChi2v\\\", 0.207701], [\\\"Chi0nChi3n\\\", 0.259525], [\\\"Chi0nChi3v\\\", 0.243882], [\\\"Chi0nKappa1\\\", 0.218167], [\\\"Chi0nKappa2\\\", 0.223671], [\\\"Chi0nLabuteASA\\\", 0.25759], [\\\"Chi0nHeavyAtomCount\\\", 0.25712], [\\\"Chi0nMolMR\\\", 0.252281], [\\\"Chi0vChi1\\\", 0.154904], [\\\"Chi0vChi1n\\\", 0.235981], [\\\"Chi0vChi1v\\\", 0.222843], [\\\"Chi0vChi2n\\\", 0.238874], [\\\"Chi0vChi2v\\\", 0.225346], [\\\"Chi0vChi3v\\\", 0.256769], [\\\"Chi0vKappa1\\\", 0.187542], [\\\"Chi0vKappa2\\\", 0.215375], [\\\"Chi0vLabuteASA\\\", 0.257117], [\\\"Chi0vHeavyAtomCount\\\", 0.250501], [\\\"Chi0vMolMR\\\", 0.25148], [\\\"Chi1Chi1n\\\", 0.212957], [\\\"Chi1Chi1v\\\", 0.189168], [\\\"Chi1Kappa1\\\", 0.187469], [\\\"Chi1Kappa2\\\", 0.172177], [\\\"Chi1LabuteASA\\\", 0.255571], [\\\"Chi1HeavyAtomCount\\\", 0.256871], [\\\"Chi1MolMR\\\", 0.247656], [\\\"Chi1nChi1v\\\", 0.107849], [\\\"Chi1nChi2n\\\", 0.184159], [\\\"Chi1nChi2v\\\", 0.10876], [\\\"Chi1nChi3n\\\", 0.265998], [\\\"Chi1nChi3v\\\", 0.225072], [\\\"Chi1nKappa1\\\", 0.246927], [\\\"Chi1nKappa2\\\", 0.19338], [\\\"Chi1nLabuteASA\\\", 0.256616], [\\\"Chi1nHeavyAtomCount\\\", 0.256713], [\\\"Chi1nMolMR\\\", 0.251185], [\\\"Chi1vChi2n\\\", 0.198402], [\\\"Chi1vChi2v\\\", 0.172194], [\\\"Chi1vChi3n\\\", 0.270192], [\\\"Chi1vChi3v\\\", 0.262278], [\\\"Chi1vChi4v\\\", 0.200729], [\\\"Chi1vKappa1\\\", 0.233364], [\\\"Chi1vKappa2\\\", 0.173346], [\\\"Chi1vLabuteASA\\\", 0.255988], [\\\"Chi1vHeavyAtomCount\\\", 0.250711], [\\\"Chi1vMolMR\\\", 0.250148], [\\\"Chi2nChi2v\\\", 0.111885], [\\\"Chi2nChi3n\\\", 0.297128], [\\\"Chi2nChi3v\\\", 0.165889], [\\\"Chi2nChi4n\\\", 0.161514], [\\\"Chi2nChi4v\\\", 0.101167], [\\\"Chi2nMolMR\\\", 0.251805], [\\\"Chi2vChi3n\\\", 0.274192], [\\\"Chi2vChi3v\\\", 0.290725], [\\\"Chi2vChi4n\\\", 0.190816], [\\\"Chi2vChi4v\\\", 0.16842], [\\\"Chi2vKappa1\\\", 0.231103], [\\\"Chi2vLabuteASA\\\", 0.255854], [\\\"Chi2vMolMR\\\", 0.250476], [\\\"Chi3nChi3v\\\", 0.111833], [\\\"Chi3nChi4n\\\", 0.163704], [\\\"Chi3nChi4v\\\", 0.193328], [\\\"Chi3vChi4v\\\", 0.185024], [\\\"Chi4nChi4v\\\", 0.116696], [\\\"HallKierAlphaSMR_VSA7\\\", 0.285123], [\\\"HallKierAlphaSlogP_VSA6\\\", \\\"___NaN___\\\"], [\\\"HallKierAlphaNumAromaticCarbocycles\\\", 0.225718], [\\\"HallKierAlphaNumAromaticRings\\\", \\\"___NaN___\\\"], [\\\"HallKierAlphafr_benzene\\\", 0.225718], [\\\"Kappa1Kappa2\\\", 0.236745], [\\\"Kappa1Kappa3\\\", 0.23131], [\\\"Kappa1LabuteASA\\\", 0.254955], [\\\"Kappa1HeavyAtomCount\\\", 0.212626], [\\\"Kappa1NumRotatableBonds\\\", 0.27058], [\\\"Kappa1MolMR\\\", 0.246013], [\\\"Kappa2Kappa3\\\", 0.205511], [\\\"Kappa2LabuteASA\\\", 0.254303], [\\\"Kappa2HeavyAtomCount\\\", 0.241379], [\\\"Kappa2NumRotatableBonds\\\", 0.172776], [\\\"Kappa2MolMR\\\", 0.246801], [\\\"LabuteASAHeavyAtomCount\\\", 0.25521], [\\\"LabuteASAMolMR\\\", 0.248906], [\\\"PEOE_VSA1TPSA\\\", 0.164943], [\\\"SMR_VSA1TPSA\\\", 0.156739], [\\\"SMR_VSA1EState_VSA1\\\", 0.166929], [\\\"SMR_VSA1EState_VSA10\\\", 0.188868], [\\\"SMR_VSA1NumHeteroatoms\\\", 0.13494], [\\\"SMR_VSA4SlogP_VSA4\\\", 0.124776], [\\\"SMR_VSA4NumAliphaticCarbocycles\\\", 0.122996], [\\\"SMR_VSA4NumSaturatedCarbocycles\\\", 0.112245], [\\\"SMR_VSA7SlogP_VSA6\\\", 0.204059], [\\\"SMR_VSA7VSA_EState6\\\", 0.223683], [\\\"SMR_VSA7FractionCSP3\\\", 0.283129], [\\\"SMR_VSA7NumAromaticCarbocycles\\\", 0.217641], [\\\"SMR_VSA7NumAromaticRings\\\", 0.21962], [\\\"SMR_VSA7fr_benzene\\\", 0.217641], [\\\"SlogP_VSA12VSA_EState10\\\", 0.111624], [\\\"SlogP_VSA4NumAliphaticCarbocycles\\\", 0.110726], [\\\"SlogP_VSA6VSA_EState6\\\", 0.189501], [\\\"SlogP_VSA6FractionCSP3\\\", 0.19076], [\\\"SlogP_VSA6NumAromaticCarbocycles\\\", 0.187782], [\\\"SlogP_VSA6NumAromaticRings\\\", 0.189688], [\\\"SlogP_VSA6fr_benzene\\\", 0.187782], [\\\"TPSANOCount\\\", 0.165577], [\\\"TPSANumHAcceptors\\\", 0.163493], [\\\"TPSANumHeteroatoms\\\", 0.16296], [\\\"VSA_EState2fr_C_O\\\", 0.159022], [\\\"VSA_EState2fr_C_O_noCOO\\\", 0.159281], [\\\"VSA_EState3fr_Al_OH\\\", 0.115668], [\\\"VSA_EState6NumAromaticCarbocycles\\\", 0.159552], [\\\"VSA_EState6fr_benzene\\\", 0.159552], [\\\"FractionCSP3NumAromaticCarbocycles\\\", 0.226316], [\\\"FractionCSP3NumAromaticRings\\\", 0.18783], [\\\"FractionCSP3fr_benzene\\\", 0.226316], [\\\"HeavyAtomCountMolMR\\\", 0.243676], [\\\"NHOHCountNumHDonors\\\", 0.122215], [\\\"NOCountNumHAcceptors\\\", 0.140207], [\\\"NumAliphaticCarbocyclesNumSaturatedCarbocycles\\\", 0.177443], [\\\"NumHAcceptorsNumHeteroatoms\\\", -0.12305], [\\\"NumHDonorsfr_Al_OH_noTert\\\", 0.205905], [\\\"NumSaturatedCarbocyclesNumSaturatedRings\\\", 0.160428], [\\\"fr_Al_OHfr_Al_OH_noTert\\\", 0.112799], [\\\"fr_Ar_Nfr_NH0\\\", 0.176603]]\"};\n",
              "        new ITable(table, dt_args);\n",
              "    });\n",
              "</script>\n"
            ],
            "text/plain": [
              "<IPython.core.display.HTML object>"
            ]
          },
          "metadata": {},
          "output_type": "display_data"
        }
      ],
      "source": [
        "show(data.corr()['CC50'])"
      ]
    },
    {
      "cell_type": "markdown",
      "metadata": {
        "id": "dv93-VLBjM2V"
      },
      "source": [
        "Смотрим, какие точки окажутся выбросами при отборе по 3 сигма. Понижаем сами верхнюю границу (это дало прирост к метрикам). Проглядывалась информация, что все, что больше 1000 - выбросы, но попытка отобрать по этому значению привела к понижению метрик."
      ]
    },
    {
      "cell_type": "code",
      "execution_count": null,
      "metadata": {
        "colab": {
          "base_uri": "https://localhost:8080/",
          "height": 391
        },
        "id": "zcYJvpYUUTWd",
        "outputId": "d59b2810-cbff-4388-9dab-e26dd66276c7"
      },
      "outputs": [
        {
          "data": {
            "image/png": "[encoded data removed]",
            "text/plain": [
              "<Figure size 1000x400 with 1 Axes>"
            ]
          },
          "metadata": {},
          "output_type": "display_data"
        }
      ],
      "source": [
        "mean = data['CC50'].mean()\n",
        "std = data['CC50'].std()\n",
        "lower_bound = mean - 3 * std\n",
        "upper_bound = mean + 3 * std\n",
        "\n",
        "data[\"outlier\"] = (data['CC50'] < lower_bound) | (data['CC50'] > 2000)\n",
        "plt.figure(figsize=(10, 4))\n",
        "plt.scatter(data.index, data['CC50'], c=~data['outlier'], cmap='coolwarm', label='Значения')\n",
        "plt.axhline(y=lower_bound, color='r', linestyle='--', label='Нижняя граница')\n",
        "plt.axhline(y=upper_bound, color='r', linestyle='--', label='Верхняя граница')\n",
        "plt.legend()\n",
        "plt.title('Обнаружение выбросов')\n",
        "plt.show()"
      ]
    },
    {
      "cell_type": "code",
      "execution_count": null,
      "metadata": {
        "id": "_d2om_rCUvPa"
      },
      "outputs": [],
      "source": [
        "data['outlier_3'] = (data['CC50'] < lower_bound) | (data['CC50'] > 2000)\n",
        "data_cleaned = data[~data['outlier_3']].drop(columns=['outlier', 'outlier_3'])"
      ]
    },
    {
      "cell_type": "markdown",
      "metadata": {
        "id": "fSwS4eaAj2w1"
      },
      "source": [
        "# Отбор признаков различными алгоритмами"
      ]
    },
    {
      "cell_type": "code",
      "execution_count": null,
      "metadata": {
        "id": "FB-oE1B4V5Hy"
      },
      "outputs": [],
      "source": [
        "def correlation_feature_selections(df, target_col, threshold=0.15):\n",
        "    # Оставляем только числовые признаки\n",
        "    df_numeric = df.select_dtypes(include=[float, int])\n",
        "\n",
        "    # Вычисляем корреляции с целевой переменной\n",
        "    correlations = df_numeric.corr()[target_col].abs().sort_values(ascending=False)\n",
        "\n",
        "    # Отбираем признаки с корреляцией выше порога\n",
        "    selected_features = correlations[correlations > threshold].index.tolist()\n",
        "    selected_features.remove(target_col)  # удаляем целевую переменную из признаков\n",
        "\n",
        "    print(f\"Выбранные признаки ({len(selected_features)}): {selected_features}\")\n",
        "    return selected_features"
      ]
    },
    {
      "cell_type": "code",
      "execution_count": null,
      "metadata": {
        "colab": {
          "base_uri": "https://localhost:8080/"
        },
        "id": "5IcwWTJtV6iT",
        "outputId": "6fa573c6-3d56-4899-b189-dbb42eb5a961"
      },
      "outputs": [
        {
          "name": "stdout",
          "output_type": "stream",
          "text": [
            "Выбранные признаки (14): ['FpDensityMorgan1', 'VSA_EState4', 'MolWt', 'fr_NH2', 'PEOE_VSA7', 'fr_ketone', 'fr_allylic_oxid', 'SlogP_VSA3', 'qed', 'PEOE_VSA6', 'NumSaturatedHeterocycles', 'EState_VSA2', 'SMR_VSA10', 'SlogP_VSA1']\n"
          ]
        }
      ],
      "source": [
        "selected_features_by_corr = correlation_feature_selections(data_cleaned, target_col='CC50')"
      ]
    },
    {
      "cell_type": "code",
      "execution_count": null,
      "metadata": {
        "id": "qsoD7FqZV8TN"
      },
      "outputs": [],
      "source": [
        "def random_forest_feature_selection(df, target_col, n_top=20):\n",
        "    X = df.drop(columns=[target_col])\n",
        "    y = df[target_col]\n",
        "\n",
        "    # Разделение на трейн/тест\n",
        "    X_train, _, y_train, _ = train_test_split(X, y, test_size=0.2, random_state=42)\n",
        "\n",
        "    # Обучаем модель\n",
        "    model = RandomForestRegressor(n_estimators=100, random_state=42)\n",
        "    model.fit(X_train, y_train)\n",
        "\n",
        "    # Получаем важность признаков\n",
        "    importance = pd.Series(model.feature_importances_, index=X.columns).sort_values(ascending=False)\n",
        "\n",
        "    # Выводим топ-N самых важных\n",
        "    top_features = importance.head(n_top).index.tolist()\n",
        "    print(f\"Топ-{n_top} важных признаков:\\n\", top_features)\n",
        "\n",
        "    # График важности\n",
        "    importance.nlargest(n_top).plot(kind='barh', figsize=(10, 8))\n",
        "    plt.title(\"Feature Importance\")\n",
        "    plt.show()\n",
        "\n",
        "    return top_features"
      ]
    },
    {
      "cell_type": "code",
      "execution_count": null,
      "metadata": {
        "colab": {
          "base_uri": "https://localhost:8080/",
          "height": 734
        },
        "id": "V2VpgZGdV9bS",
        "outputId": "e33ad422-f6cb-4ffe-a0b8-40d997f9cd34"
      },
      "outputs": [
        {
          "name": "stdout",
          "output_type": "stream",
          "text": [
            "Топ-10 важных признаков:\n",
            " ['FpDensityMorgan1', 'BCUT2D_MRLOW', 'MolLogP', 'MolWt', 'SPS', 'BCUT2D_MWLOW', 'Ipc', 'PEOE_VSA7', 'VSA_EState4', 'BalabanJ']\n"
          ]
        },
        {
          "data": {
            "image/png": "[encoded data removed]",
            "text/plain": [
              "<Figure size 1000x800 with 1 Axes>"
            ]
          },
          "metadata": {},
          "output_type": "display_data"
        }
      ],
      "source": [
        "selected_features_by_rand_for = random_forest_feature_selection(data_cleaned, target_col='CC50', n_top=10)"
      ]
    },
    {
      "cell_type": "code",
      "execution_count": null,
      "metadata": {
        "id": "LKQQW6CUV_aL"
      },
      "outputs": [],
      "source": [
        "def lasso_feature_selection(df, target_col):\n",
        "    X = df.drop(columns=[target_col])\n",
        "    y = df[target_col]\n",
        "\n",
        "    # Стандартизируем данные\n",
        "    scaler = StandardScaler()\n",
        "    X_scaled = scaler.fit_transform(X)\n",
        "\n",
        "    # Подбор оптимального alpha и обучение Lasso\n",
        "    model = LassoCV(cv=5, random_state=42, max_iter=10000)\n",
        "    model.fit(X_scaled, y)\n",
        "\n",
        "    # Определяем, какие признаки не занулены\n",
        "    coef = pd.Series(model.coef_, index=X.columns)\n",
        "    selected_features = coef[coef != 0].index.tolist()\n",
        "\n",
        "    print(f\"Коэффициенты:\\n{coef.sort_values(ascending=False)}\")\n",
        "    print(f\"Оставлено признаков: {len(selected_features)}\")\n",
        "    print(\"Оставленные признаки:\", selected_features)\n",
        "\n",
        "    return selected_features"
      ]
    },
    {
      "cell_type": "code",
      "execution_count": null,
      "metadata": {
        "colab": {
          "base_uri": "https://localhost:8080/"
        },
        "id": "0lbyHYICWA2Q",
        "outputId": "61b386a7-ff5e-4db3-b822-64f0b984b8f1"
      },
      "outputs": [
        {
          "name": "stdout",
          "output_type": "stream",
          "text": [
            "Коэффициенты:\n",
            "FpDensityMorgan1            33.594354\n",
            "NumSaturatedHeterocycles    24.955382\n",
            "fr_Imine                    23.906844\n",
            "fr_quatN                    16.110507\n",
            "fr_Ndealkylation1           14.181965\n",
            "                              ...    \n",
            "PEOE_VSA6                  -19.625878\n",
            "fr_allylic_oxid            -27.084010\n",
            "PEOE_VSA7                  -31.482422\n",
            "MolWt                      -51.509646\n",
            "fr_NH2                     -76.992372\n",
            "Length: 94, dtype: float64\n",
            "Оставлено признаков: 16\n",
            "Оставленные признаки: ['MolWt', 'FpDensityMorgan1', 'BCUT2D_MRLOW', 'PEOE_VSA6', 'PEOE_VSA7', 'EState_VSA4', 'NumSaturatedHeterocycles', 'fr_Ar_OH', 'fr_C_S', 'fr_Imine', 'fr_NH2', 'fr_Ndealkylation1', 'fr_allylic_oxid', 'fr_ketone', 'fr_quatN', 'fr_sulfide']\n"
          ]
        }
      ],
      "source": [
        "selected_features_by_lasso = lasso_feature_selection(data_cleaned, target_col='CC50')"
      ]
    },
    {
      "cell_type": "markdown",
      "metadata": {
        "id": "Wp2eZ5eTWFSc"
      },
      "source": [
        "# Подбор модели и гиперпараметров с предсказанием по наилучшим параметрам"
      ]
    },
    {
      "cell_type": "code",
      "execution_count": null,
      "metadata": {
        "id": "bVya0BfG3FVG"
      },
      "outputs": [],
      "source": [
        "def get_models():\n",
        "  models = {\n",
        "      \"Linear Regression\": {\n",
        "          \"model\": LinearRegression(),\n",
        "          \"params\": {}\n",
        "      },\n",
        "      \"Random Forest\": {\n",
        "          \"model\": RandomForestRegressor(random_state=42),\n",
        "          \"params\": {\n",
        "              'n_estimators': [20, 50, 100],\n",
        "              'max_depth': [None, 5, 10, 20],\n",
        "              'min_samples_split': [2, 3, 5, 10]\n",
        "          }\n",
        "      },\n",
        "      \"Gradient Boosting\": {\n",
        "          \"model\": GradientBoostingRegressor(random_state=42),\n",
        "          \"params\": {\n",
        "              'n_estimators': [50, 100],\n",
        "              'learning_rate': [0.01, 0.1],\n",
        "              'max_depth': [3, 5]\n",
        "          }\n",
        "      },\n",
        "      \"XGBoost\": {\n",
        "          \"model\": XGBRegressor(random_state=42, eval_metric='logloss'),\n",
        "          \"params\": {\n",
        "              'n_estimators': [50, 100],\n",
        "              'learning_rate': [0.01, 0.1],\n",
        "              'max_depth': [3, 5]\n",
        "          }\n",
        "      },\n",
        "      'CatBoost':{\n",
        "          \"model\":  CatBoostRegressor(random_seed=42, verbose=0),\n",
        "          \"params\": {\n",
        "              'iterations': [100, 300],\n",
        "              'learning_rate': [0.01, 0.05, 0.1],\n",
        "              'depth': [4, 8],\n",
        "              'l2_leaf_reg': [1, 5, 7]\n",
        "          }\n",
        "      }\n",
        "  }\n",
        "  return models"
      ]
    },
    {
      "cell_type": "code",
      "execution_count": null,
      "metadata": {
        "id": "B_O_c7fN3KW3"
      },
      "outputs": [],
      "source": [
        "def get_regression(X_train, y_train, X_test, y_test):\n",
        "  results = []\n",
        "  models = get_models()\n",
        "  for model_name, config in models.items():\n",
        "      print(f\"\\nОбучение модели: {model_name}\")\n",
        "\n",
        "      if not config['params']:  # пропускаем пустые параметры (например, у LinearRegression)\n",
        "          model = config['model']\n",
        "          model.fit(X_train, y_train)\n",
        "          best_params = {}\n",
        "      else:\n",
        "          grid = GridSearchCV(config['model'], config['params'], cv=5, scoring='r2', n_jobs=-1)\n",
        "          grid.fit(X_train, y_train)\n",
        "          model = grid.best_estimator_\n",
        "          best_params = grid.best_params_\n",
        "\n",
        "      # Предсказание\n",
        "      y_pred = model.predict(X_test)\n",
        "\n",
        "      # Метрики\n",
        "      mae = mean_absolute_error(y_test, y_pred)\n",
        "      rmse = np.sqrt(mean_squared_error(y_test, y_pred))\n",
        "      r2 = r2_score(y_test, y_pred)\n",
        "\n",
        "      results.append({\n",
        "          \"Model\": model_name,\n",
        "          \"Best Params\": best_params,\n",
        "          \"MAE\": mae,\n",
        "          \"RMSE\": rmse,\n",
        "          \"R²\": r2\n",
        "      })\n",
        "\n",
        "      print(f\"Лучшие параметры: {best_params}\")\n",
        "      print(f\"MAE: {mae:.4f}, RMSE: {rmse:.4f}, R²: {r2:.4f}\")\n",
        "  return results"
      ]
    },
    {
      "cell_type": "code",
      "execution_count": null,
      "metadata": {
        "colab": {
          "base_uri": "https://localhost:8080/"
        },
        "id": "CZ_PMDZMWIc_",
        "outputId": "805a5b72-aa51-4d41-be6e-2439627bfb66"
      },
      "outputs": [
        {
          "name": "stdout",
          "output_type": "stream",
          "text": [
            "\n",
            "Обучение модели: Linear Regression\n",
            "Лучшие параметры: {}\n",
            "MAE: 352.3964, RMSE: 426.4211, R²: 0.2138\n",
            "\n",
            "Обучение модели: Random Forest\n",
            "Лучшие параметры: {'max_depth': 20, 'min_samples_split': 2, 'n_estimators': 100}\n",
            "MAE: 297.6439, RMSE: 371.4864, R²: 0.4033\n",
            "\n",
            "Обучение модели: Gradient Boosting\n",
            "Лучшие параметры: {'learning_rate': 0.1, 'max_depth': 5, 'n_estimators': 50}\n",
            "MAE: 296.0416, RMSE: 376.6616, R²: 0.3866\n",
            "\n",
            "Обучение модели: XGBoost\n",
            "Лучшие параметры: {'learning_rate': 0.1, 'max_depth': 5, 'n_estimators': 50}\n",
            "MAE: 331.4436, RMSE: 401.6242, R²: 0.3026\n",
            "\n",
            "Обучение модели: CatBoost\n",
            "Лучшие параметры: {'depth': 8, 'iterations': 100, 'l2_leaf_reg': 1, 'learning_rate': 0.1}\n",
            "MAE: 274.5404, RMSE: 358.6152, R²: 0.4439\n"
          ]
        }
      ],
      "source": [
        "X = data_cleaned[selected_features_by_corr]\n",
        "y = data_cleaned['CC50']\n",
        "\n",
        "# Разделение на трейн/тест\n",
        "X_train, X_test, y_train, y_test = train_test_split(X, y, test_size=0.2, random_state=42)\n",
        "scaler = StandardScaler()\n",
        "X_train = scaler.fit_transform(X_train)\n",
        "X_test = scaler.fit_transform(X_test)\n",
        "\n",
        "res1 = get_regression(X_train, y_train, X_test, y_test)"
      ]
    },
    {
      "cell_type": "code",
      "execution_count": null,
      "metadata": {
        "colab": {
          "base_uri": "https://localhost:8080/"
        },
        "id": "wr_eNrlRA222",
        "outputId": "2ce207ae-0b24-44b2-bb66-e1a13e8857c5"
      },
      "outputs": [
        {
          "name": "stdout",
          "output_type": "stream",
          "text": [
            "\n",
            "Обучение модели: Linear Regression\n",
            "Лучшие параметры: {}\n",
            "MAE: 320.0071, RMSE: 389.1207, R²: 0.3453\n",
            "\n",
            "Обучение модели: Random Forest\n",
            "Лучшие параметры: {'max_depth': None, 'min_samples_split': 5, 'n_estimators': 100}\n",
            "MAE: 281.6873, RMSE: 354.7753, R²: 0.4558\n",
            "\n",
            "Обучение модели: Gradient Boosting\n",
            "Лучшие параметры: {'learning_rate': 0.1, 'max_depth': 3, 'n_estimators': 100}\n",
            "MAE: 266.2497, RMSE: 338.6413, R²: 0.5041\n",
            "\n",
            "Обучение модели: XGBoost\n",
            "Лучшие параметры: {'learning_rate': 0.1, 'max_depth': 3, 'n_estimators': 100}\n",
            "MAE: 324.3596, RMSE: 391.6811, R²: 0.3367\n",
            "\n",
            "Обучение модели: CatBoost\n",
            "Лучшие параметры: {'depth': 8, 'iterations': 100, 'l2_leaf_reg': 5, 'learning_rate': 0.1}\n",
            "MAE: 263.1106, RMSE: 328.3340, R²: 0.5339\n"
          ]
        }
      ],
      "source": [
        "X = data_cleaned[selected_features_by_lasso]\n",
        "y = data_cleaned['CC50']\n",
        "\n",
        "# Разделение на трейн/тест\n",
        "X_train, X_test, y_train, y_test = train_test_split(X, y, test_size=0.2, random_state=42)\n",
        "scaler = StandardScaler()\n",
        "X_train = scaler.fit_transform(X_train)\n",
        "X_test = scaler.fit_transform(X_test)\n",
        "\n",
        "res2 = get_regression(X_train, y_train, X_test, y_test)"
      ]
    },
    {
      "cell_type": "code",
      "execution_count": null,
      "metadata": {
        "colab": {
          "base_uri": "https://localhost:8080/"
        },
        "id": "sTLy3IqlA591",
        "outputId": "53f656af-32fd-402b-8755-1e3e08612827"
      },
      "outputs": [
        {
          "name": "stdout",
          "output_type": "stream",
          "text": [
            "\n",
            "Обучение модели: Linear Regression\n",
            "Лучшие параметры: {}\n",
            "MAE: 382.0124, RMSE: 442.9979, R²: 0.1515\n",
            "\n",
            "Обучение модели: Random Forest\n",
            "Лучшие параметры: {'max_depth': None, 'min_samples_split': 3, 'n_estimators': 100}\n",
            "MAE: 310.0893, RMSE: 387.4545, R²: 0.3509\n",
            "\n",
            "Обучение модели: Gradient Boosting\n",
            "Лучшие параметры: {'learning_rate': 0.1, 'max_depth': 5, 'n_estimators': 50}\n",
            "MAE: 313.2698, RMSE: 382.5921, R²: 0.3671\n",
            "\n",
            "Обучение модели: XGBoost\n",
            "Лучшие параметры: {'learning_rate': 0.1, 'max_depth': 5, 'n_estimators': 50}\n",
            "MAE: 330.8017, RMSE: 406.0353, R²: 0.2871\n",
            "\n",
            "Обучение модели: CatBoost\n",
            "Лучшие параметры: {'depth': 8, 'iterations': 300, 'l2_leaf_reg': 7, 'learning_rate': 0.05}\n",
            "MAE: 315.8574, RMSE: 393.7692, R²: 0.3296\n"
          ]
        }
      ],
      "source": [
        "X = data_cleaned[selected_features_by_rand_for]\n",
        "y = data_cleaned['CC50']\n",
        "\n",
        "# Разделение на трейн/тест\n",
        "X_train, X_test, y_train, y_test = train_test_split(X, y, test_size=0.2, random_state=42)\n",
        "scaler = StandardScaler()\n",
        "X_train = scaler.fit_transform(X_train)\n",
        "X_test = scaler.fit_transform(X_test)\n",
        "\n",
        "res3 = get_regression(X_train, y_train, X_test, y_test)"
      ]
    },
    {
      "cell_type": "markdown",
      "metadata": {
        "id": "dKiMw-vaZBcg"
      },
      "source": [
        "Если оценивать в общем модель регрессии, то лучше всех справился CatBoost на данных, признаки которых были отобраны с помощью Lasso, при параметрах:  {'depth': 8, 'iterations': 100, 'l2_leaf_reg': 5, 'learning_rate': 0.1} и метриках: MAE: 263.1106, RMSE: 328.3340, R²: 0.5339."
      ]
    }
  ],
  "metadata": {
    "colab": {
      "provenance": []
    },
    "kernelspec": {
      "display_name": "Python 3",
      "name": "python3"
    },
    "language_info": {
      "name": "python"
    }
  },
  "nbformat": 4,
  "nbformat_minor": 0
}
